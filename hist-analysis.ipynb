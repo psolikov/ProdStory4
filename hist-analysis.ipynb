{
 "cells": [
  {
   "cell_type": "code",
   "execution_count": 1,
   "id": "ordinary-monitor",
   "metadata": {},
   "outputs": [],
   "source": [
    "import json\n",
    "import pandas as pd\n",
    "import numpy as np\n",
    "\n",
    "from os import listdir\n",
    "from os.path import isfile, join\n",
    "from collections import defaultdict\n",
    "from tqdm.notebook import tqdm\n",
    "from sklearn.cluster import KMeans, DBSCAN, AgglomerativeClustering, Birch\n",
    "from sklearn.metrics.cluster import adjusted_rand_score, rand_score, \\\n",
    "adjusted_mutual_info_score, normalized_mutual_info_score, fowlkes_mallows_score, \\\n",
    "silhouette_score, contingency_matrix"
   ]
  },
  {
   "cell_type": "code",
   "execution_count": 2,
   "id": "specialized-reasoning",
   "metadata": {},
   "outputs": [],
   "source": [
    "MAIN_PATH = \"2021-09-28 Алексей Лукашин/Models-clustering/\"\n",
    "HIST_PATH = MAIN_PATH + \"histograms_28_10_21_11_06/\"\n",
    "LABEL_PATH = MAIN_PATH + \"labels.csv\""
   ]
  },
  {
   "cell_type": "code",
   "execution_count": 3,
   "id": "quiet-excellence",
   "metadata": {},
   "outputs": [],
   "source": [
    "label = pd.read_csv(LABEL_PATH)"
   ]
  },
  {
   "cell_type": "code",
   "execution_count": 4,
   "id": "simple-rally",
   "metadata": {},
   "outputs": [
    {
     "data": {
      "text/html": [
       "<div>\n",
       "<style scoped>\n",
       "    .dataframe tbody tr th:only-of-type {\n",
       "        vertical-align: middle;\n",
       "    }\n",
       "\n",
       "    .dataframe tbody tr th {\n",
       "        vertical-align: top;\n",
       "    }\n",
       "\n",
       "    .dataframe thead th {\n",
       "        text-align: right;\n",
       "    }\n",
       "</style>\n",
       "<table border=\"1\" class=\"dataframe\">\n",
       "  <thead>\n",
       "    <tr style=\"text-align: right;\">\n",
       "      <th></th>\n",
       "      <th>model</th>\n",
       "      <th>type</th>\n",
       "    </tr>\n",
       "  </thead>\n",
       "  <tbody>\n",
       "    <tr>\n",
       "      <th>0</th>\n",
       "      <td>b5025746-e58f-4696-837c-5b21808b7ae9</td>\n",
       "      <td>Torus</td>\n",
       "    </tr>\n",
       "    <tr>\n",
       "      <th>1</th>\n",
       "      <td>30a730ca-c466-4e8c-b00b-bf7b317495e2</td>\n",
       "      <td>Cone</td>\n",
       "    </tr>\n",
       "    <tr>\n",
       "      <th>2</th>\n",
       "      <td>7d0c7362-1e8d-4008-b444-cdf111e06ce9</td>\n",
       "      <td>Sphere</td>\n",
       "    </tr>\n",
       "    <tr>\n",
       "      <th>3</th>\n",
       "      <td>d58d68a4-7acb-48d8-96bd-71f1eca1affe</td>\n",
       "      <td>Sphere</td>\n",
       "    </tr>\n",
       "    <tr>\n",
       "      <th>4</th>\n",
       "      <td>df907d43-7c4f-4ccd-9350-0d84c41dba54</td>\n",
       "      <td>Cube</td>\n",
       "    </tr>\n",
       "    <tr>\n",
       "      <th>...</th>\n",
       "      <td>...</td>\n",
       "      <td>...</td>\n",
       "    </tr>\n",
       "    <tr>\n",
       "      <th>9995</th>\n",
       "      <td>e194b0ba-7565-4919-b108-f288dd73852d</td>\n",
       "      <td>Cone</td>\n",
       "    </tr>\n",
       "    <tr>\n",
       "      <th>9996</th>\n",
       "      <td>255e1024-5967-4247-9de9-b595403f6bc5</td>\n",
       "      <td>Cone</td>\n",
       "    </tr>\n",
       "    <tr>\n",
       "      <th>9997</th>\n",
       "      <td>4289a105-141e-4857-b1d8-831d933a29a3</td>\n",
       "      <td>Cylinder</td>\n",
       "    </tr>\n",
       "    <tr>\n",
       "      <th>9998</th>\n",
       "      <td>cf2364fa-4c63-40cd-8971-682e3790b689</td>\n",
       "      <td>Sphere</td>\n",
       "    </tr>\n",
       "    <tr>\n",
       "      <th>9999</th>\n",
       "      <td>b3f48288-dd53-44f4-9d38-c4589a58c7cd</td>\n",
       "      <td>Torus.2034</td>\n",
       "    </tr>\n",
       "  </tbody>\n",
       "</table>\n",
       "<p>10000 rows × 2 columns</p>\n",
       "</div>"
      ],
      "text/plain": [
       "                                     model        type\n",
       "0     b5025746-e58f-4696-837c-5b21808b7ae9       Torus\n",
       "1     30a730ca-c466-4e8c-b00b-bf7b317495e2        Cone\n",
       "2     7d0c7362-1e8d-4008-b444-cdf111e06ce9      Sphere\n",
       "3     d58d68a4-7acb-48d8-96bd-71f1eca1affe      Sphere\n",
       "4     df907d43-7c4f-4ccd-9350-0d84c41dba54        Cube\n",
       "...                                    ...         ...\n",
       "9995  e194b0ba-7565-4919-b108-f288dd73852d        Cone\n",
       "9996  255e1024-5967-4247-9de9-b595403f6bc5        Cone\n",
       "9997  4289a105-141e-4857-b1d8-831d933a29a3    Cylinder\n",
       "9998  cf2364fa-4c63-40cd-8971-682e3790b689      Sphere\n",
       "9999  b3f48288-dd53-44f4-9d38-c4589a58c7cd  Torus.2034\n",
       "\n",
       "[10000 rows x 2 columns]"
      ]
     },
     "execution_count": 4,
     "metadata": {},
     "output_type": "execute_result"
    }
   ],
   "source": [
    "label"
   ]
  },
  {
   "cell_type": "code",
   "execution_count": 5,
   "id": "noble-uruguay",
   "metadata": {},
   "outputs": [
    {
     "data": {
      "application/vnd.jupyter.widget-view+json": {
       "model_id": "a721325534f544b090a35bdf01e02538",
       "version_major": 2,
       "version_minor": 0
      },
      "text/plain": [
       "  0%|          | 0/2137 [00:00<?, ?it/s]"
      ]
     },
     "metadata": {},
     "output_type": "display_data"
    }
   ],
   "source": [
    "data = defaultdict(dict)\n",
    "hists_files = [f for f in listdir(HIST_PATH) if isfile(join(HIST_PATH, f))]\n",
    "for hist_file in tqdm(hists_files):\n",
    "    with open(HIST_PATH + hist_file) as f:\n",
    "        hist_data = json.load(f)\n",
    "        orig_uuid = hist_data[\"origin_uuid\"]\n",
    "        if orig_uuid in label.model.values:\n",
    "            data[orig_uuid][\"label\"] = label.loc[label['model'] == orig_uuid].type.values[0]\n",
    "            for hist_part in hist_data[\"histogram_data\"]:\n",
    "                for hist_part_point_id, hist_part_point in enumerate(hist_part[\"data\"]):\n",
    "                    data[orig_uuid][f\"{hist_part['type']}_{hist_part_point_id}\"] = hist_part_point\n",
    "        else:\n",
    "            print('bad')\n",
    "#         data[orig_uuid][]"
   ]
  },
  {
   "cell_type": "code",
   "execution_count": 6,
   "id": "entertaining-manual",
   "metadata": {},
   "outputs": [],
   "source": [
    "for key in data.keys():\n",
    "    if data[key][\"label\"].startswith('Torus'):\n",
    "        data[key][\"label\"] = \"Torus\""
   ]
  },
  {
   "cell_type": "code",
   "execution_count": 7,
   "id": "rapid-sucking",
   "metadata": {},
   "outputs": [],
   "source": [
    "data = pd.DataFrame.from_dict(data).transpose()"
   ]
  },
  {
   "cell_type": "code",
   "execution_count": 8,
   "id": "unavailable-cholesterol",
   "metadata": {},
   "outputs": [
    {
     "data": {
      "text/html": [
       "<div>\n",
       "<style scoped>\n",
       "    .dataframe tbody tr th:only-of-type {\n",
       "        vertical-align: middle;\n",
       "    }\n",
       "\n",
       "    .dataframe tbody tr th {\n",
       "        vertical-align: top;\n",
       "    }\n",
       "\n",
       "    .dataframe thead th {\n",
       "        text-align: right;\n",
       "    }\n",
       "</style>\n",
       "<table border=\"1\" class=\"dataframe\">\n",
       "  <thead>\n",
       "    <tr style=\"text-align: right;\">\n",
       "      <th></th>\n",
       "      <th>label</th>\n",
       "      <th>model_bounding_sphere_strict_outer_0</th>\n",
       "      <th>model_bounding_sphere_strict_outer_1</th>\n",
       "      <th>model_bounding_sphere_strict_outer_2</th>\n",
       "      <th>model_bounding_sphere_strict_outer_3</th>\n",
       "      <th>model_bounding_sphere_strict_outer_4</th>\n",
       "      <th>model_bounding_sphere_strict_outer_5</th>\n",
       "      <th>model_bounding_sphere_strict_outer_6</th>\n",
       "      <th>model_bounding_sphere_strict_outer_7</th>\n",
       "      <th>model_bounding_sphere_strict_outer_absolute_0</th>\n",
       "      <th>...</th>\n",
       "      <th>hull_bounding_sphere_concentric_sphere_118</th>\n",
       "      <th>hull_bounding_sphere_concentric_sphere_119</th>\n",
       "      <th>hull_bounding_sphere_concentric_sphere_120</th>\n",
       "      <th>hull_bounding_sphere_concentric_sphere_121</th>\n",
       "      <th>hull_bounding_sphere_concentric_sphere_122</th>\n",
       "      <th>hull_bounding_sphere_concentric_sphere_123</th>\n",
       "      <th>hull_bounding_sphere_concentric_sphere_124</th>\n",
       "      <th>hull_bounding_sphere_concentric_sphere_125</th>\n",
       "      <th>hull_bounding_sphere_concentric_sphere_126</th>\n",
       "      <th>hull_bounding_sphere_concentric_sphere_127</th>\n",
       "    </tr>\n",
       "  </thead>\n",
       "  <tbody>\n",
       "    <tr>\n",
       "      <th>11c5e331-a33e-4350-b72b-cdc0df89c1ed</th>\n",
       "      <td>Cylinder</td>\n",
       "      <td>0</td>\n",
       "      <td>0</td>\n",
       "      <td>0</td>\n",
       "      <td>0.000892</td>\n",
       "      <td>0.002574</td>\n",
       "      <td>0.006149</td>\n",
       "      <td>0.008355</td>\n",
       "      <td>0.013177</td>\n",
       "      <td>0</td>\n",
       "      <td>...</td>\n",
       "      <td>0.023442</td>\n",
       "      <td>0.01692</td>\n",
       "      <td>0.013967</td>\n",
       "      <td>0.011527</td>\n",
       "      <td>0.009724</td>\n",
       "      <td>0.008249</td>\n",
       "      <td>0.006607</td>\n",
       "      <td>0.005244</td>\n",
       "      <td>0.003821</td>\n",
       "      <td>0.001848</td>\n",
       "    </tr>\n",
       "    <tr>\n",
       "      <th>26cd47e3-e98c-406a-92d7-6ef9ea091131</th>\n",
       "      <td>Cube</td>\n",
       "      <td>0</td>\n",
       "      <td>0</td>\n",
       "      <td>0</td>\n",
       "      <td>0.000661</td>\n",
       "      <td>0.001656</td>\n",
       "      <td>0.002031</td>\n",
       "      <td>0.002843</td>\n",
       "      <td>0.003026</td>\n",
       "      <td>0</td>\n",
       "      <td>...</td>\n",
       "      <td>0.004673</td>\n",
       "      <td>0.004336</td>\n",
       "      <td>0.00411</td>\n",
       "      <td>0.003835</td>\n",
       "      <td>0.003538</td>\n",
       "      <td>0.003306</td>\n",
       "      <td>0.003032</td>\n",
       "      <td>0.002749</td>\n",
       "      <td>0.002543</td>\n",
       "      <td>0.002066</td>\n",
       "    </tr>\n",
       "    <tr>\n",
       "      <th>08dec1c1-da98-4c73-87de-74d06c233555</th>\n",
       "      <td>Cylinder</td>\n",
       "      <td>0</td>\n",
       "      <td>0</td>\n",
       "      <td>0</td>\n",
       "      <td>0.000608</td>\n",
       "      <td>0.002269</td>\n",
       "      <td>0.004723</td>\n",
       "      <td>0.006885</td>\n",
       "      <td>0.007792</td>\n",
       "      <td>0</td>\n",
       "      <td>...</td>\n",
       "      <td>0.010711</td>\n",
       "      <td>0.009807</td>\n",
       "      <td>0.009141</td>\n",
       "      <td>0.00844</td>\n",
       "      <td>0.007359</td>\n",
       "      <td>0.006605</td>\n",
       "      <td>0.005677</td>\n",
       "      <td>0.004606</td>\n",
       "      <td>0.003281</td>\n",
       "      <td>0.00135</td>\n",
       "    </tr>\n",
       "    <tr>\n",
       "      <th>25879c76-212c-45dd-b224-44fd4f1262ac</th>\n",
       "      <td>Sphere</td>\n",
       "      <td>0</td>\n",
       "      <td>0</td>\n",
       "      <td>0</td>\n",
       "      <td>0.002479</td>\n",
       "      <td>0.006758</td>\n",
       "      <td>0.009277</td>\n",
       "      <td>0.010995</td>\n",
       "      <td>0.011166</td>\n",
       "      <td>0</td>\n",
       "      <td>...</td>\n",
       "      <td>0.008782</td>\n",
       "      <td>0.008149</td>\n",
       "      <td>0.007475</td>\n",
       "      <td>0.009619</td>\n",
       "      <td>0.010958</td>\n",
       "      <td>0.008781</td>\n",
       "      <td>0.007034</td>\n",
       "      <td>0.005715</td>\n",
       "      <td>0.011479</td>\n",
       "      <td>0.002965</td>\n",
       "    </tr>\n",
       "    <tr>\n",
       "      <th>06ca7fc2-475c-4a63-bb0c-5d8d8899ecba</th>\n",
       "      <td>Cube</td>\n",
       "      <td>0</td>\n",
       "      <td>0</td>\n",
       "      <td>0</td>\n",
       "      <td>0.000146</td>\n",
       "      <td>0.000772</td>\n",
       "      <td>0.001387</td>\n",
       "      <td>0.002652</td>\n",
       "      <td>0.004087</td>\n",
       "      <td>0</td>\n",
       "      <td>...</td>\n",
       "      <td>0.007241</td>\n",
       "      <td>0.006313</td>\n",
       "      <td>0.005384</td>\n",
       "      <td>0.004612</td>\n",
       "      <td>0.003781</td>\n",
       "      <td>0.003008</td>\n",
       "      <td>0.002329</td>\n",
       "      <td>0.001633</td>\n",
       "      <td>0.000983</td>\n",
       "      <td>0.000327</td>\n",
       "    </tr>\n",
       "    <tr>\n",
       "      <th>...</th>\n",
       "      <td>...</td>\n",
       "      <td>...</td>\n",
       "      <td>...</td>\n",
       "      <td>...</td>\n",
       "      <td>...</td>\n",
       "      <td>...</td>\n",
       "      <td>...</td>\n",
       "      <td>...</td>\n",
       "      <td>...</td>\n",
       "      <td>...</td>\n",
       "      <td>...</td>\n",
       "      <td>...</td>\n",
       "      <td>...</td>\n",
       "      <td>...</td>\n",
       "      <td>...</td>\n",
       "      <td>...</td>\n",
       "      <td>...</td>\n",
       "      <td>...</td>\n",
       "      <td>...</td>\n",
       "      <td>...</td>\n",
       "      <td>...</td>\n",
       "    </tr>\n",
       "    <tr>\n",
       "      <th>18bac1bb-d5b7-4fde-9723-43a4a2bdae53</th>\n",
       "      <td>Torus</td>\n",
       "      <td>0</td>\n",
       "      <td>0</td>\n",
       "      <td>0</td>\n",
       "      <td>0.001133</td>\n",
       "      <td>0.004165</td>\n",
       "      <td>0.006252</td>\n",
       "      <td>0.006877</td>\n",
       "      <td>0.007005</td>\n",
       "      <td>0</td>\n",
       "      <td>...</td>\n",
       "      <td>0.006081</td>\n",
       "      <td>0.005978</td>\n",
       "      <td>0.005739</td>\n",
       "      <td>0.0054</td>\n",
       "      <td>0.005277</td>\n",
       "      <td>0.005385</td>\n",
       "      <td>0.005791</td>\n",
       "      <td>0.005501</td>\n",
       "      <td>0.003903</td>\n",
       "      <td>0.001558</td>\n",
       "    </tr>\n",
       "    <tr>\n",
       "      <th>0b2018f5-4e91-4649-9d56-78fe1d14f87f</th>\n",
       "      <td>Torus</td>\n",
       "      <td>0</td>\n",
       "      <td>0</td>\n",
       "      <td>0</td>\n",
       "      <td>0.000066</td>\n",
       "      <td>0.001044</td>\n",
       "      <td>0.00173</td>\n",
       "      <td>0.002007</td>\n",
       "      <td>0.001937</td>\n",
       "      <td>0</td>\n",
       "      <td>...</td>\n",
       "      <td>0.004559</td>\n",
       "      <td>0.004739</td>\n",
       "      <td>0.00408</td>\n",
       "      <td>0.003979</td>\n",
       "      <td>0.003672</td>\n",
       "      <td>0.003636</td>\n",
       "      <td>0.003237</td>\n",
       "      <td>0.002517</td>\n",
       "      <td>0.001572</td>\n",
       "      <td>0.000602</td>\n",
       "    </tr>\n",
       "    <tr>\n",
       "      <th>094917b7-de47-4741-905b-55784f709637</th>\n",
       "      <td>Cube</td>\n",
       "      <td>0</td>\n",
       "      <td>0</td>\n",
       "      <td>0</td>\n",
       "      <td>0.000139</td>\n",
       "      <td>0.001765</td>\n",
       "      <td>0.003317</td>\n",
       "      <td>0.006113</td>\n",
       "      <td>0.012188</td>\n",
       "      <td>0</td>\n",
       "      <td>...</td>\n",
       "      <td>0.022158</td>\n",
       "      <td>0.018745</td>\n",
       "      <td>0.013827</td>\n",
       "      <td>0.0105</td>\n",
       "      <td>0.00809</td>\n",
       "      <td>0.006263</td>\n",
       "      <td>0.004598</td>\n",
       "      <td>0.003176</td>\n",
       "      <td>0.00178</td>\n",
       "      <td>0.000587</td>\n",
       "    </tr>\n",
       "    <tr>\n",
       "      <th>26188779-103e-43e1-8f5b-d78b36d71b26</th>\n",
       "      <td>Torus</td>\n",
       "      <td>0</td>\n",
       "      <td>0</td>\n",
       "      <td>0</td>\n",
       "      <td>0.001056</td>\n",
       "      <td>0.004736</td>\n",
       "      <td>0.006201</td>\n",
       "      <td>0.007577</td>\n",
       "      <td>0.007334</td>\n",
       "      <td>0</td>\n",
       "      <td>...</td>\n",
       "      <td>0.005992</td>\n",
       "      <td>0.005916</td>\n",
       "      <td>0.005801</td>\n",
       "      <td>0.005407</td>\n",
       "      <td>0.005242</td>\n",
       "      <td>0.005208</td>\n",
       "      <td>0.005782</td>\n",
       "      <td>0.005131</td>\n",
       "      <td>0.003663</td>\n",
       "      <td>0.001566</td>\n",
       "    </tr>\n",
       "    <tr>\n",
       "      <th>2794f6ff-e550-4442-93a2-df7f92b13e74</th>\n",
       "      <td>Torus</td>\n",
       "      <td>0</td>\n",
       "      <td>0</td>\n",
       "      <td>0</td>\n",
       "      <td>0.000158</td>\n",
       "      <td>0.000962</td>\n",
       "      <td>0.000994</td>\n",
       "      <td>0.001091</td>\n",
       "      <td>0.001806</td>\n",
       "      <td>0</td>\n",
       "      <td>...</td>\n",
       "      <td>0.005701</td>\n",
       "      <td>0.005272</td>\n",
       "      <td>0.005181</td>\n",
       "      <td>0.004674</td>\n",
       "      <td>0.004319</td>\n",
       "      <td>0.004082</td>\n",
       "      <td>0.003794</td>\n",
       "      <td>0.003172</td>\n",
       "      <td>0.001737</td>\n",
       "      <td>0.000598</td>\n",
       "    </tr>\n",
       "  </tbody>\n",
       "</table>\n",
       "<p>2137 rows × 1025 columns</p>\n",
       "</div>"
      ],
      "text/plain": [
       "                                         label  \\\n",
       "11c5e331-a33e-4350-b72b-cdc0df89c1ed  Cylinder   \n",
       "26cd47e3-e98c-406a-92d7-6ef9ea091131      Cube   \n",
       "08dec1c1-da98-4c73-87de-74d06c233555  Cylinder   \n",
       "25879c76-212c-45dd-b224-44fd4f1262ac    Sphere   \n",
       "06ca7fc2-475c-4a63-bb0c-5d8d8899ecba      Cube   \n",
       "...                                        ...   \n",
       "18bac1bb-d5b7-4fde-9723-43a4a2bdae53     Torus   \n",
       "0b2018f5-4e91-4649-9d56-78fe1d14f87f     Torus   \n",
       "094917b7-de47-4741-905b-55784f709637      Cube   \n",
       "26188779-103e-43e1-8f5b-d78b36d71b26     Torus   \n",
       "2794f6ff-e550-4442-93a2-df7f92b13e74     Torus   \n",
       "\n",
       "                                     model_bounding_sphere_strict_outer_0  \\\n",
       "11c5e331-a33e-4350-b72b-cdc0df89c1ed                                    0   \n",
       "26cd47e3-e98c-406a-92d7-6ef9ea091131                                    0   \n",
       "08dec1c1-da98-4c73-87de-74d06c233555                                    0   \n",
       "25879c76-212c-45dd-b224-44fd4f1262ac                                    0   \n",
       "06ca7fc2-475c-4a63-bb0c-5d8d8899ecba                                    0   \n",
       "...                                                                   ...   \n",
       "18bac1bb-d5b7-4fde-9723-43a4a2bdae53                                    0   \n",
       "0b2018f5-4e91-4649-9d56-78fe1d14f87f                                    0   \n",
       "094917b7-de47-4741-905b-55784f709637                                    0   \n",
       "26188779-103e-43e1-8f5b-d78b36d71b26                                    0   \n",
       "2794f6ff-e550-4442-93a2-df7f92b13e74                                    0   \n",
       "\n",
       "                                     model_bounding_sphere_strict_outer_1  \\\n",
       "11c5e331-a33e-4350-b72b-cdc0df89c1ed                                    0   \n",
       "26cd47e3-e98c-406a-92d7-6ef9ea091131                                    0   \n",
       "08dec1c1-da98-4c73-87de-74d06c233555                                    0   \n",
       "25879c76-212c-45dd-b224-44fd4f1262ac                                    0   \n",
       "06ca7fc2-475c-4a63-bb0c-5d8d8899ecba                                    0   \n",
       "...                                                                   ...   \n",
       "18bac1bb-d5b7-4fde-9723-43a4a2bdae53                                    0   \n",
       "0b2018f5-4e91-4649-9d56-78fe1d14f87f                                    0   \n",
       "094917b7-de47-4741-905b-55784f709637                                    0   \n",
       "26188779-103e-43e1-8f5b-d78b36d71b26                                    0   \n",
       "2794f6ff-e550-4442-93a2-df7f92b13e74                                    0   \n",
       "\n",
       "                                     model_bounding_sphere_strict_outer_2  \\\n",
       "11c5e331-a33e-4350-b72b-cdc0df89c1ed                                    0   \n",
       "26cd47e3-e98c-406a-92d7-6ef9ea091131                                    0   \n",
       "08dec1c1-da98-4c73-87de-74d06c233555                                    0   \n",
       "25879c76-212c-45dd-b224-44fd4f1262ac                                    0   \n",
       "06ca7fc2-475c-4a63-bb0c-5d8d8899ecba                                    0   \n",
       "...                                                                   ...   \n",
       "18bac1bb-d5b7-4fde-9723-43a4a2bdae53                                    0   \n",
       "0b2018f5-4e91-4649-9d56-78fe1d14f87f                                    0   \n",
       "094917b7-de47-4741-905b-55784f709637                                    0   \n",
       "26188779-103e-43e1-8f5b-d78b36d71b26                                    0   \n",
       "2794f6ff-e550-4442-93a2-df7f92b13e74                                    0   \n",
       "\n",
       "                                     model_bounding_sphere_strict_outer_3  \\\n",
       "11c5e331-a33e-4350-b72b-cdc0df89c1ed                             0.000892   \n",
       "26cd47e3-e98c-406a-92d7-6ef9ea091131                             0.000661   \n",
       "08dec1c1-da98-4c73-87de-74d06c233555                             0.000608   \n",
       "25879c76-212c-45dd-b224-44fd4f1262ac                             0.002479   \n",
       "06ca7fc2-475c-4a63-bb0c-5d8d8899ecba                             0.000146   \n",
       "...                                                                   ...   \n",
       "18bac1bb-d5b7-4fde-9723-43a4a2bdae53                             0.001133   \n",
       "0b2018f5-4e91-4649-9d56-78fe1d14f87f                             0.000066   \n",
       "094917b7-de47-4741-905b-55784f709637                             0.000139   \n",
       "26188779-103e-43e1-8f5b-d78b36d71b26                             0.001056   \n",
       "2794f6ff-e550-4442-93a2-df7f92b13e74                             0.000158   \n",
       "\n",
       "                                     model_bounding_sphere_strict_outer_4  \\\n",
       "11c5e331-a33e-4350-b72b-cdc0df89c1ed                             0.002574   \n",
       "26cd47e3-e98c-406a-92d7-6ef9ea091131                             0.001656   \n",
       "08dec1c1-da98-4c73-87de-74d06c233555                             0.002269   \n",
       "25879c76-212c-45dd-b224-44fd4f1262ac                             0.006758   \n",
       "06ca7fc2-475c-4a63-bb0c-5d8d8899ecba                             0.000772   \n",
       "...                                                                   ...   \n",
       "18bac1bb-d5b7-4fde-9723-43a4a2bdae53                             0.004165   \n",
       "0b2018f5-4e91-4649-9d56-78fe1d14f87f                             0.001044   \n",
       "094917b7-de47-4741-905b-55784f709637                             0.001765   \n",
       "26188779-103e-43e1-8f5b-d78b36d71b26                             0.004736   \n",
       "2794f6ff-e550-4442-93a2-df7f92b13e74                             0.000962   \n",
       "\n",
       "                                     model_bounding_sphere_strict_outer_5  \\\n",
       "11c5e331-a33e-4350-b72b-cdc0df89c1ed                             0.006149   \n",
       "26cd47e3-e98c-406a-92d7-6ef9ea091131                             0.002031   \n",
       "08dec1c1-da98-4c73-87de-74d06c233555                             0.004723   \n",
       "25879c76-212c-45dd-b224-44fd4f1262ac                             0.009277   \n",
       "06ca7fc2-475c-4a63-bb0c-5d8d8899ecba                             0.001387   \n",
       "...                                                                   ...   \n",
       "18bac1bb-d5b7-4fde-9723-43a4a2bdae53                             0.006252   \n",
       "0b2018f5-4e91-4649-9d56-78fe1d14f87f                              0.00173   \n",
       "094917b7-de47-4741-905b-55784f709637                             0.003317   \n",
       "26188779-103e-43e1-8f5b-d78b36d71b26                             0.006201   \n",
       "2794f6ff-e550-4442-93a2-df7f92b13e74                             0.000994   \n",
       "\n",
       "                                     model_bounding_sphere_strict_outer_6  \\\n",
       "11c5e331-a33e-4350-b72b-cdc0df89c1ed                             0.008355   \n",
       "26cd47e3-e98c-406a-92d7-6ef9ea091131                             0.002843   \n",
       "08dec1c1-da98-4c73-87de-74d06c233555                             0.006885   \n",
       "25879c76-212c-45dd-b224-44fd4f1262ac                             0.010995   \n",
       "06ca7fc2-475c-4a63-bb0c-5d8d8899ecba                             0.002652   \n",
       "...                                                                   ...   \n",
       "18bac1bb-d5b7-4fde-9723-43a4a2bdae53                             0.006877   \n",
       "0b2018f5-4e91-4649-9d56-78fe1d14f87f                             0.002007   \n",
       "094917b7-de47-4741-905b-55784f709637                             0.006113   \n",
       "26188779-103e-43e1-8f5b-d78b36d71b26                             0.007577   \n",
       "2794f6ff-e550-4442-93a2-df7f92b13e74                             0.001091   \n",
       "\n",
       "                                     model_bounding_sphere_strict_outer_7  \\\n",
       "11c5e331-a33e-4350-b72b-cdc0df89c1ed                             0.013177   \n",
       "26cd47e3-e98c-406a-92d7-6ef9ea091131                             0.003026   \n",
       "08dec1c1-da98-4c73-87de-74d06c233555                             0.007792   \n",
       "25879c76-212c-45dd-b224-44fd4f1262ac                             0.011166   \n",
       "06ca7fc2-475c-4a63-bb0c-5d8d8899ecba                             0.004087   \n",
       "...                                                                   ...   \n",
       "18bac1bb-d5b7-4fde-9723-43a4a2bdae53                             0.007005   \n",
       "0b2018f5-4e91-4649-9d56-78fe1d14f87f                             0.001937   \n",
       "094917b7-de47-4741-905b-55784f709637                             0.012188   \n",
       "26188779-103e-43e1-8f5b-d78b36d71b26                             0.007334   \n",
       "2794f6ff-e550-4442-93a2-df7f92b13e74                             0.001806   \n",
       "\n",
       "                                     model_bounding_sphere_strict_outer_absolute_0  \\\n",
       "11c5e331-a33e-4350-b72b-cdc0df89c1ed                                             0   \n",
       "26cd47e3-e98c-406a-92d7-6ef9ea091131                                             0   \n",
       "08dec1c1-da98-4c73-87de-74d06c233555                                             0   \n",
       "25879c76-212c-45dd-b224-44fd4f1262ac                                             0   \n",
       "06ca7fc2-475c-4a63-bb0c-5d8d8899ecba                                             0   \n",
       "...                                                                            ...   \n",
       "18bac1bb-d5b7-4fde-9723-43a4a2bdae53                                             0   \n",
       "0b2018f5-4e91-4649-9d56-78fe1d14f87f                                             0   \n",
       "094917b7-de47-4741-905b-55784f709637                                             0   \n",
       "26188779-103e-43e1-8f5b-d78b36d71b26                                             0   \n",
       "2794f6ff-e550-4442-93a2-df7f92b13e74                                             0   \n",
       "\n",
       "                                      ...  \\\n",
       "11c5e331-a33e-4350-b72b-cdc0df89c1ed  ...   \n",
       "26cd47e3-e98c-406a-92d7-6ef9ea091131  ...   \n",
       "08dec1c1-da98-4c73-87de-74d06c233555  ...   \n",
       "25879c76-212c-45dd-b224-44fd4f1262ac  ...   \n",
       "06ca7fc2-475c-4a63-bb0c-5d8d8899ecba  ...   \n",
       "...                                   ...   \n",
       "18bac1bb-d5b7-4fde-9723-43a4a2bdae53  ...   \n",
       "0b2018f5-4e91-4649-9d56-78fe1d14f87f  ...   \n",
       "094917b7-de47-4741-905b-55784f709637  ...   \n",
       "26188779-103e-43e1-8f5b-d78b36d71b26  ...   \n",
       "2794f6ff-e550-4442-93a2-df7f92b13e74  ...   \n",
       "\n",
       "                                     hull_bounding_sphere_concentric_sphere_118  \\\n",
       "11c5e331-a33e-4350-b72b-cdc0df89c1ed                                   0.023442   \n",
       "26cd47e3-e98c-406a-92d7-6ef9ea091131                                   0.004673   \n",
       "08dec1c1-da98-4c73-87de-74d06c233555                                   0.010711   \n",
       "25879c76-212c-45dd-b224-44fd4f1262ac                                   0.008782   \n",
       "06ca7fc2-475c-4a63-bb0c-5d8d8899ecba                                   0.007241   \n",
       "...                                                                         ...   \n",
       "18bac1bb-d5b7-4fde-9723-43a4a2bdae53                                   0.006081   \n",
       "0b2018f5-4e91-4649-9d56-78fe1d14f87f                                   0.004559   \n",
       "094917b7-de47-4741-905b-55784f709637                                   0.022158   \n",
       "26188779-103e-43e1-8f5b-d78b36d71b26                                   0.005992   \n",
       "2794f6ff-e550-4442-93a2-df7f92b13e74                                   0.005701   \n",
       "\n",
       "                                     hull_bounding_sphere_concentric_sphere_119  \\\n",
       "11c5e331-a33e-4350-b72b-cdc0df89c1ed                                    0.01692   \n",
       "26cd47e3-e98c-406a-92d7-6ef9ea091131                                   0.004336   \n",
       "08dec1c1-da98-4c73-87de-74d06c233555                                   0.009807   \n",
       "25879c76-212c-45dd-b224-44fd4f1262ac                                   0.008149   \n",
       "06ca7fc2-475c-4a63-bb0c-5d8d8899ecba                                   0.006313   \n",
       "...                                                                         ...   \n",
       "18bac1bb-d5b7-4fde-9723-43a4a2bdae53                                   0.005978   \n",
       "0b2018f5-4e91-4649-9d56-78fe1d14f87f                                   0.004739   \n",
       "094917b7-de47-4741-905b-55784f709637                                   0.018745   \n",
       "26188779-103e-43e1-8f5b-d78b36d71b26                                   0.005916   \n",
       "2794f6ff-e550-4442-93a2-df7f92b13e74                                   0.005272   \n",
       "\n",
       "                                     hull_bounding_sphere_concentric_sphere_120  \\\n",
       "11c5e331-a33e-4350-b72b-cdc0df89c1ed                                   0.013967   \n",
       "26cd47e3-e98c-406a-92d7-6ef9ea091131                                    0.00411   \n",
       "08dec1c1-da98-4c73-87de-74d06c233555                                   0.009141   \n",
       "25879c76-212c-45dd-b224-44fd4f1262ac                                   0.007475   \n",
       "06ca7fc2-475c-4a63-bb0c-5d8d8899ecba                                   0.005384   \n",
       "...                                                                         ...   \n",
       "18bac1bb-d5b7-4fde-9723-43a4a2bdae53                                   0.005739   \n",
       "0b2018f5-4e91-4649-9d56-78fe1d14f87f                                    0.00408   \n",
       "094917b7-de47-4741-905b-55784f709637                                   0.013827   \n",
       "26188779-103e-43e1-8f5b-d78b36d71b26                                   0.005801   \n",
       "2794f6ff-e550-4442-93a2-df7f92b13e74                                   0.005181   \n",
       "\n",
       "                                     hull_bounding_sphere_concentric_sphere_121  \\\n",
       "11c5e331-a33e-4350-b72b-cdc0df89c1ed                                   0.011527   \n",
       "26cd47e3-e98c-406a-92d7-6ef9ea091131                                   0.003835   \n",
       "08dec1c1-da98-4c73-87de-74d06c233555                                    0.00844   \n",
       "25879c76-212c-45dd-b224-44fd4f1262ac                                   0.009619   \n",
       "06ca7fc2-475c-4a63-bb0c-5d8d8899ecba                                   0.004612   \n",
       "...                                                                         ...   \n",
       "18bac1bb-d5b7-4fde-9723-43a4a2bdae53                                     0.0054   \n",
       "0b2018f5-4e91-4649-9d56-78fe1d14f87f                                   0.003979   \n",
       "094917b7-de47-4741-905b-55784f709637                                     0.0105   \n",
       "26188779-103e-43e1-8f5b-d78b36d71b26                                   0.005407   \n",
       "2794f6ff-e550-4442-93a2-df7f92b13e74                                   0.004674   \n",
       "\n",
       "                                     hull_bounding_sphere_concentric_sphere_122  \\\n",
       "11c5e331-a33e-4350-b72b-cdc0df89c1ed                                   0.009724   \n",
       "26cd47e3-e98c-406a-92d7-6ef9ea091131                                   0.003538   \n",
       "08dec1c1-da98-4c73-87de-74d06c233555                                   0.007359   \n",
       "25879c76-212c-45dd-b224-44fd4f1262ac                                   0.010958   \n",
       "06ca7fc2-475c-4a63-bb0c-5d8d8899ecba                                   0.003781   \n",
       "...                                                                         ...   \n",
       "18bac1bb-d5b7-4fde-9723-43a4a2bdae53                                   0.005277   \n",
       "0b2018f5-4e91-4649-9d56-78fe1d14f87f                                   0.003672   \n",
       "094917b7-de47-4741-905b-55784f709637                                    0.00809   \n",
       "26188779-103e-43e1-8f5b-d78b36d71b26                                   0.005242   \n",
       "2794f6ff-e550-4442-93a2-df7f92b13e74                                   0.004319   \n",
       "\n",
       "                                     hull_bounding_sphere_concentric_sphere_123  \\\n",
       "11c5e331-a33e-4350-b72b-cdc0df89c1ed                                   0.008249   \n",
       "26cd47e3-e98c-406a-92d7-6ef9ea091131                                   0.003306   \n",
       "08dec1c1-da98-4c73-87de-74d06c233555                                   0.006605   \n",
       "25879c76-212c-45dd-b224-44fd4f1262ac                                   0.008781   \n",
       "06ca7fc2-475c-4a63-bb0c-5d8d8899ecba                                   0.003008   \n",
       "...                                                                         ...   \n",
       "18bac1bb-d5b7-4fde-9723-43a4a2bdae53                                   0.005385   \n",
       "0b2018f5-4e91-4649-9d56-78fe1d14f87f                                   0.003636   \n",
       "094917b7-de47-4741-905b-55784f709637                                   0.006263   \n",
       "26188779-103e-43e1-8f5b-d78b36d71b26                                   0.005208   \n",
       "2794f6ff-e550-4442-93a2-df7f92b13e74                                   0.004082   \n",
       "\n",
       "                                     hull_bounding_sphere_concentric_sphere_124  \\\n",
       "11c5e331-a33e-4350-b72b-cdc0df89c1ed                                   0.006607   \n",
       "26cd47e3-e98c-406a-92d7-6ef9ea091131                                   0.003032   \n",
       "08dec1c1-da98-4c73-87de-74d06c233555                                   0.005677   \n",
       "25879c76-212c-45dd-b224-44fd4f1262ac                                   0.007034   \n",
       "06ca7fc2-475c-4a63-bb0c-5d8d8899ecba                                   0.002329   \n",
       "...                                                                         ...   \n",
       "18bac1bb-d5b7-4fde-9723-43a4a2bdae53                                   0.005791   \n",
       "0b2018f5-4e91-4649-9d56-78fe1d14f87f                                   0.003237   \n",
       "094917b7-de47-4741-905b-55784f709637                                   0.004598   \n",
       "26188779-103e-43e1-8f5b-d78b36d71b26                                   0.005782   \n",
       "2794f6ff-e550-4442-93a2-df7f92b13e74                                   0.003794   \n",
       "\n",
       "                                     hull_bounding_sphere_concentric_sphere_125  \\\n",
       "11c5e331-a33e-4350-b72b-cdc0df89c1ed                                   0.005244   \n",
       "26cd47e3-e98c-406a-92d7-6ef9ea091131                                   0.002749   \n",
       "08dec1c1-da98-4c73-87de-74d06c233555                                   0.004606   \n",
       "25879c76-212c-45dd-b224-44fd4f1262ac                                   0.005715   \n",
       "06ca7fc2-475c-4a63-bb0c-5d8d8899ecba                                   0.001633   \n",
       "...                                                                         ...   \n",
       "18bac1bb-d5b7-4fde-9723-43a4a2bdae53                                   0.005501   \n",
       "0b2018f5-4e91-4649-9d56-78fe1d14f87f                                   0.002517   \n",
       "094917b7-de47-4741-905b-55784f709637                                   0.003176   \n",
       "26188779-103e-43e1-8f5b-d78b36d71b26                                   0.005131   \n",
       "2794f6ff-e550-4442-93a2-df7f92b13e74                                   0.003172   \n",
       "\n",
       "                                     hull_bounding_sphere_concentric_sphere_126  \\\n",
       "11c5e331-a33e-4350-b72b-cdc0df89c1ed                                   0.003821   \n",
       "26cd47e3-e98c-406a-92d7-6ef9ea091131                                   0.002543   \n",
       "08dec1c1-da98-4c73-87de-74d06c233555                                   0.003281   \n",
       "25879c76-212c-45dd-b224-44fd4f1262ac                                   0.011479   \n",
       "06ca7fc2-475c-4a63-bb0c-5d8d8899ecba                                   0.000983   \n",
       "...                                                                         ...   \n",
       "18bac1bb-d5b7-4fde-9723-43a4a2bdae53                                   0.003903   \n",
       "0b2018f5-4e91-4649-9d56-78fe1d14f87f                                   0.001572   \n",
       "094917b7-de47-4741-905b-55784f709637                                    0.00178   \n",
       "26188779-103e-43e1-8f5b-d78b36d71b26                                   0.003663   \n",
       "2794f6ff-e550-4442-93a2-df7f92b13e74                                   0.001737   \n",
       "\n",
       "                                     hull_bounding_sphere_concentric_sphere_127  \n",
       "11c5e331-a33e-4350-b72b-cdc0df89c1ed                                   0.001848  \n",
       "26cd47e3-e98c-406a-92d7-6ef9ea091131                                   0.002066  \n",
       "08dec1c1-da98-4c73-87de-74d06c233555                                    0.00135  \n",
       "25879c76-212c-45dd-b224-44fd4f1262ac                                   0.002965  \n",
       "06ca7fc2-475c-4a63-bb0c-5d8d8899ecba                                   0.000327  \n",
       "...                                                                         ...  \n",
       "18bac1bb-d5b7-4fde-9723-43a4a2bdae53                                   0.001558  \n",
       "0b2018f5-4e91-4649-9d56-78fe1d14f87f                                   0.000602  \n",
       "094917b7-de47-4741-905b-55784f709637                                   0.000587  \n",
       "26188779-103e-43e1-8f5b-d78b36d71b26                                   0.001566  \n",
       "2794f6ff-e550-4442-93a2-df7f92b13e74                                   0.000598  \n",
       "\n",
       "[2137 rows x 1025 columns]"
      ]
     },
     "execution_count": 8,
     "metadata": {},
     "output_type": "execute_result"
    }
   ],
   "source": [
    "data"
   ]
  },
  {
   "cell_type": "code",
   "execution_count": 9,
   "id": "mediterranean-worcester",
   "metadata": {},
   "outputs": [
    {
     "data": {
      "text/html": [
       "<div>\n",
       "<style scoped>\n",
       "    .dataframe tbody tr th:only-of-type {\n",
       "        vertical-align: middle;\n",
       "    }\n",
       "\n",
       "    .dataframe tbody tr th {\n",
       "        vertical-align: top;\n",
       "    }\n",
       "\n",
       "    .dataframe thead th {\n",
       "        text-align: right;\n",
       "    }\n",
       "</style>\n",
       "<table border=\"1\" class=\"dataframe\">\n",
       "  <thead>\n",
       "    <tr style=\"text-align: right;\">\n",
       "      <th></th>\n",
       "      <th>label</th>\n",
       "      <th>model_bounding_sphere_strict_outer_0</th>\n",
       "      <th>model_bounding_sphere_strict_outer_1</th>\n",
       "      <th>model_bounding_sphere_strict_outer_2</th>\n",
       "      <th>model_bounding_sphere_strict_outer_3</th>\n",
       "      <th>model_bounding_sphere_strict_outer_4</th>\n",
       "      <th>model_bounding_sphere_strict_outer_5</th>\n",
       "      <th>model_bounding_sphere_strict_outer_6</th>\n",
       "      <th>model_bounding_sphere_strict_outer_7</th>\n",
       "      <th>model_bounding_sphere_strict_outer_absolute_0</th>\n",
       "      <th>...</th>\n",
       "      <th>hull_bounding_sphere_concentric_sphere_118</th>\n",
       "      <th>hull_bounding_sphere_concentric_sphere_119</th>\n",
       "      <th>hull_bounding_sphere_concentric_sphere_120</th>\n",
       "      <th>hull_bounding_sphere_concentric_sphere_121</th>\n",
       "      <th>hull_bounding_sphere_concentric_sphere_122</th>\n",
       "      <th>hull_bounding_sphere_concentric_sphere_123</th>\n",
       "      <th>hull_bounding_sphere_concentric_sphere_124</th>\n",
       "      <th>hull_bounding_sphere_concentric_sphere_125</th>\n",
       "      <th>hull_bounding_sphere_concentric_sphere_126</th>\n",
       "      <th>hull_bounding_sphere_concentric_sphere_127</th>\n",
       "    </tr>\n",
       "  </thead>\n",
       "  <tbody>\n",
       "  </tbody>\n",
       "</table>\n",
       "<p>0 rows × 1025 columns</p>\n",
       "</div>"
      ],
      "text/plain": [
       "Empty DataFrame\n",
       "Columns: [label, model_bounding_sphere_strict_outer_0, model_bounding_sphere_strict_outer_1, model_bounding_sphere_strict_outer_2, model_bounding_sphere_strict_outer_3, model_bounding_sphere_strict_outer_4, model_bounding_sphere_strict_outer_5, model_bounding_sphere_strict_outer_6, model_bounding_sphere_strict_outer_7, model_bounding_sphere_strict_outer_absolute_0, model_bounding_sphere_strict_outer_absolute_1, model_bounding_sphere_strict_outer_absolute_2, model_bounding_sphere_strict_outer_absolute_3, model_bounding_sphere_strict_outer_absolute_4, model_bounding_sphere_strict_outer_absolute_5, model_bounding_sphere_strict_outer_absolute_6, model_bounding_sphere_strict_outer_absolute_7, model_bounding_sphere_missed_0, model_bounding_sphere_missed_1, model_bounding_sphere_missed_2, model_bounding_sphere_missed_3, model_bounding_sphere_missed_4, model_bounding_sphere_missed_5, model_bounding_sphere_missed_6, model_bounding_sphere_missed_7, model_bounding_sphere_concentric_sphere_0, model_bounding_sphere_concentric_sphere_1, model_bounding_sphere_concentric_sphere_2, model_bounding_sphere_concentric_sphere_3, model_bounding_sphere_concentric_sphere_4, model_bounding_sphere_concentric_sphere_5, model_bounding_sphere_concentric_sphere_6, model_bounding_sphere_concentric_sphere_7, model_bounding_sphere_strict_outer_8, model_bounding_sphere_strict_outer_9, model_bounding_sphere_strict_outer_10, model_bounding_sphere_strict_outer_11, model_bounding_sphere_strict_outer_12, model_bounding_sphere_strict_outer_13, model_bounding_sphere_strict_outer_14, model_bounding_sphere_strict_outer_15, model_bounding_sphere_strict_outer_absolute_8, model_bounding_sphere_strict_outer_absolute_9, model_bounding_sphere_strict_outer_absolute_10, model_bounding_sphere_strict_outer_absolute_11, model_bounding_sphere_strict_outer_absolute_12, model_bounding_sphere_strict_outer_absolute_13, model_bounding_sphere_strict_outer_absolute_14, model_bounding_sphere_strict_outer_absolute_15, model_bounding_sphere_missed_8, model_bounding_sphere_missed_9, model_bounding_sphere_missed_10, model_bounding_sphere_missed_11, model_bounding_sphere_missed_12, model_bounding_sphere_missed_13, model_bounding_sphere_missed_14, model_bounding_sphere_missed_15, model_bounding_sphere_concentric_sphere_8, model_bounding_sphere_concentric_sphere_9, model_bounding_sphere_concentric_sphere_10, model_bounding_sphere_concentric_sphere_11, model_bounding_sphere_concentric_sphere_12, model_bounding_sphere_concentric_sphere_13, model_bounding_sphere_concentric_sphere_14, model_bounding_sphere_concentric_sphere_15, model_bounding_sphere_strict_outer_16, model_bounding_sphere_strict_outer_17, model_bounding_sphere_strict_outer_18, model_bounding_sphere_strict_outer_19, model_bounding_sphere_strict_outer_20, model_bounding_sphere_strict_outer_21, model_bounding_sphere_strict_outer_22, model_bounding_sphere_strict_outer_23, model_bounding_sphere_strict_outer_24, model_bounding_sphere_strict_outer_25, model_bounding_sphere_strict_outer_26, model_bounding_sphere_strict_outer_27, model_bounding_sphere_strict_outer_28, model_bounding_sphere_strict_outer_29, model_bounding_sphere_strict_outer_30, model_bounding_sphere_strict_outer_31, model_bounding_sphere_strict_outer_absolute_16, model_bounding_sphere_strict_outer_absolute_17, model_bounding_sphere_strict_outer_absolute_18, model_bounding_sphere_strict_outer_absolute_19, model_bounding_sphere_strict_outer_absolute_20, model_bounding_sphere_strict_outer_absolute_21, model_bounding_sphere_strict_outer_absolute_22, model_bounding_sphere_strict_outer_absolute_23, model_bounding_sphere_strict_outer_absolute_24, model_bounding_sphere_strict_outer_absolute_25, model_bounding_sphere_strict_outer_absolute_26, model_bounding_sphere_strict_outer_absolute_27, model_bounding_sphere_strict_outer_absolute_28, model_bounding_sphere_strict_outer_absolute_29, model_bounding_sphere_strict_outer_absolute_30, model_bounding_sphere_strict_outer_absolute_31, model_bounding_sphere_missed_16, model_bounding_sphere_missed_17, model_bounding_sphere_missed_18, ...]\n",
       "Index: []\n",
       "\n",
       "[0 rows x 1025 columns]"
      ]
     },
     "execution_count": 9,
     "metadata": {},
     "output_type": "execute_result"
    }
   ],
   "source": [
    "data[pd.isnull(data.label)]"
   ]
  },
  {
   "cell_type": "code",
   "execution_count": 10,
   "id": "other-bahamas",
   "metadata": {},
   "outputs": [
    {
     "data": {
      "text/plain": [
       "{'Cone', 'Cube', 'Cylinder', 'Sphere', 'Torus'}"
      ]
     },
     "execution_count": 10,
     "metadata": {},
     "output_type": "execute_result"
    }
   ],
   "source": [
    "label_set = set(data.label.values)\n",
    "label_set"
   ]
  },
  {
   "cell_type": "code",
   "execution_count": 11,
   "id": "freelance-request",
   "metadata": {},
   "outputs": [],
   "source": [
    "data_int_labels = np.unique(data.label.values, return_inverse=True)[1]"
   ]
  },
  {
   "cell_type": "markdown",
   "id": "amber-superintendent",
   "metadata": {},
   "source": [
    "### Clustering evaluation"
   ]
  },
  {
   "cell_type": "code",
   "execution_count": 12,
   "id": "empty-principle",
   "metadata": {},
   "outputs": [],
   "source": [
    "def metric_to_sign(value):\n",
    "    if value < 0.4:\n",
    "        return \"-\"\n",
    "    elif value >= 0.4 and value < 0.6:\n",
    "        return \"~\"\n",
    "    elif value >= 0.6 and value < 1:\n",
    "        return \"+\"\n",
    "    else:\n",
    "        return \"NaN\"\n",
    "\n",
    "def evaluate_clustering(X, predicted, actual):\n",
    "    value = adjusted_rand_score(predicted, actual)\n",
    "    print(f'{metric_to_sign(value)} adjusted_rand_score={value} (perfect is 1, poor is 0)')\n",
    "    value = normalized_mutual_info_score(predicted, actual)\n",
    "    print(f'{metric_to_sign(value)} normalized_mutual_info_score={value} (perfect is 1, poor is 0)')\n",
    "    value = adjusted_mutual_info_score(predicted, actual)\n",
    "    print(f'{metric_to_sign(value)} adjusted_mutual_info_score={value} (perfect is 1, poor is 0)')\n",
    "    value = fowlkes_mallows_score(predicted, actual)\n",
    "    print(f'{metric_to_sign(value)} fowlkes_mallows_score={value} (perfect is 1, poor is 0)')\n",
    "    value = silhouette_score(X, predicted)\n",
    "    print(f'{metric_to_sign(value)} silhouette_score={value} (perfect is 1, poor is -1)')"
   ]
  },
  {
   "cell_type": "markdown",
   "id": "interstate-popularity",
   "metadata": {},
   "source": [
    "### KMeans"
   ]
  },
  {
   "cell_type": "code",
   "execution_count": 13,
   "id": "dated-louisville",
   "metadata": {},
   "outputs": [],
   "source": [
    "model = KMeans(n_clusters=5)"
   ]
  },
  {
   "cell_type": "code",
   "execution_count": 14,
   "id": "satisfied-bangkok",
   "metadata": {},
   "outputs": [
    {
     "data": {
      "text/plain": [
       "KMeans(n_clusters=5)"
      ]
     },
     "execution_count": 14,
     "metadata": {},
     "output_type": "execute_result"
    }
   ],
   "source": [
    "model.fit(data.drop(columns=['label']))"
   ]
  },
  {
   "cell_type": "code",
   "execution_count": 15,
   "id": "operating-warrant",
   "metadata": {},
   "outputs": [],
   "source": [
    "predictions = model.predict(data.drop(columns=['label']))"
   ]
  },
  {
   "cell_type": "code",
   "execution_count": 16,
   "id": "fitted-convenience",
   "metadata": {},
   "outputs": [
    {
     "name": "stdout",
     "output_type": "stream",
     "text": [
      "- adjusted_rand_score=0.04040850015789842 (perfect is 1, poor is 0)\n",
      "- normalized_mutual_info_score=0.07529506739934061 (perfect is 1, poor is 0)\n",
      "- adjusted_mutual_info_score=0.07301637711692109 (perfect is 1, poor is 0)\n",
      "- fowlkes_mallows_score=0.25507653171357936 (perfect is 1, poor is 0)\n",
      "- silhouette_score=0.22261862556541392 (perfect is 1, poor is -1)\n"
     ]
    }
   ],
   "source": [
    "evaluate_clustering(data.drop(columns=['label']), predictions, data_int_labels)"
   ]
  },
  {
   "cell_type": "markdown",
   "id": "suffering-thesis",
   "metadata": {},
   "source": [
    "### DBSCAN"
   ]
  },
  {
   "cell_type": "code",
   "execution_count": 17,
   "id": "outstanding-asset",
   "metadata": {},
   "outputs": [],
   "source": [
    "eps_range = np.linspace(1, 0.0001, 30)"
   ]
  },
  {
   "cell_type": "code",
   "execution_count": 18,
   "id": "subsequent-decline",
   "metadata": {
    "scrolled": true
   },
   "outputs": [
    {
     "name": "stdout",
     "output_type": "stream",
     "text": [
      "DBSCAN clusters with eps=1.0: n_clusters=1 n_noise=0\n",
      "DBSCAN clusters with eps=0.9655206896551725: n_clusters=1 n_noise=0\n",
      "DBSCAN clusters with eps=0.9310413793103448: n_clusters=1 n_noise=0\n",
      "DBSCAN clusters with eps=0.8965620689655173: n_clusters=1 n_noise=0\n",
      "DBSCAN clusters with eps=0.8620827586206896: n_clusters=1 n_noise=0\n",
      "DBSCAN clusters with eps=0.8276034482758621: n_clusters=1 n_noise=0\n",
      "DBSCAN clusters with eps=0.7931241379310345: n_clusters=1 n_noise=0\n",
      "DBSCAN clusters with eps=0.7586448275862069: n_clusters=1 n_noise=0\n",
      "DBSCAN clusters with eps=0.7241655172413792: n_clusters=1 n_noise=0\n",
      "DBSCAN clusters with eps=0.6896862068965517: n_clusters=1 n_noise=0\n",
      "DBSCAN clusters with eps=0.6552068965517241: n_clusters=1 n_noise=0\n",
      "DBSCAN clusters with eps=0.6207275862068965: n_clusters=1 n_noise=0\n",
      "DBSCAN clusters with eps=0.586248275862069: n_clusters=1 n_noise=0\n",
      "DBSCAN clusters with eps=0.5517689655172413: n_clusters=1 n_noise=0\n",
      "DBSCAN clusters with eps=0.5172896551724138: n_clusters=1 n_noise=0\n",
      "DBSCAN clusters with eps=0.4828103448275861: n_clusters=1 n_noise=0\n",
      "DBSCAN clusters with eps=0.4483310344827586: n_clusters=1 n_noise=0\n",
      "DBSCAN clusters with eps=0.41385172413793103: n_clusters=1 n_noise=0\n",
      "DBSCAN clusters with eps=0.3793724137931034: n_clusters=1 n_noise=0\n",
      "DBSCAN clusters with eps=0.34489310344827584: n_clusters=1 n_noise=0\n",
      "DBSCAN clusters with eps=0.3104137931034482: n_clusters=1 n_noise=0\n",
      "DBSCAN clusters with eps=0.27593448275862065: n_clusters=1 n_noise=0\n",
      "DBSCAN clusters with eps=0.241455172413793: n_clusters=1 n_noise=0\n",
      "DBSCAN clusters with eps=0.20697586206896545: n_clusters=1 n_noise=0\n",
      "DBSCAN clusters with eps=0.17249655172413791: n_clusters=1 n_noise=0\n",
      "DBSCAN clusters with eps=0.13801724137931026: n_clusters=1 n_noise=0\n",
      "DBSCAN clusters with eps=0.10353793103448272: n_clusters=1 n_noise=0\n",
      "DBSCAN clusters with eps=0.06905862068965507: n_clusters=1 n_noise=0\n",
      "DBSCAN clusters with eps=0.03457931034482753: n_clusters=1 n_noise=0\n",
      "DBSCAN clusters with eps=0.0001: n_clusters=1 n_noise=0\n"
     ]
    }
   ],
   "source": [
    "for db_eps in eps_range:\n",
    "    db = DBSCAN().fit(data.drop(columns=['label']))\n",
    "    core_samples_mask = np.zeros_like(db.labels_, dtype=bool)\n",
    "    core_samples_mask[db.core_sample_indices_] = True\n",
    "    labels = db.labels_\n",
    "\n",
    "    n_clusters_ = len(set(labels)) - (1 if -1 in labels else 0)\n",
    "    n_noise_ = list(labels).count(-1)\n",
    "    print(f'DBSCAN clusters with eps={db_eps}: n_clusters={n_clusters_} n_noise={n_noise_}')"
   ]
  },
  {
   "cell_type": "markdown",
   "id": "peripheral-profit",
   "metadata": {},
   "source": [
    "Видно что DBSCAN не в состоянии разделить данные на кластеры.\n",
    "Попробуем сделать то же самое на небольшой выборке тех же данных."
   ]
  },
  {
   "cell_type": "code",
   "execution_count": 19,
   "id": "experimental-creativity",
   "metadata": {},
   "outputs": [],
   "source": [
    "data_fraq = data.sample(frac=0.1)"
   ]
  },
  {
   "cell_type": "code",
   "execution_count": 20,
   "id": "educated-spectacular",
   "metadata": {},
   "outputs": [
    {
     "name": "stdout",
     "output_type": "stream",
     "text": [
      "DBSCAN clusters with eps=1.0: n_clusters=1 n_noise=0\n",
      "DBSCAN clusters with eps=0.9655206896551725: n_clusters=1 n_noise=0\n",
      "DBSCAN clusters with eps=0.9310413793103448: n_clusters=1 n_noise=0\n",
      "DBSCAN clusters with eps=0.8965620689655173: n_clusters=1 n_noise=0\n",
      "DBSCAN clusters with eps=0.8620827586206896: n_clusters=1 n_noise=0\n",
      "DBSCAN clusters with eps=0.8276034482758621: n_clusters=1 n_noise=0\n",
      "DBSCAN clusters with eps=0.7931241379310345: n_clusters=1 n_noise=0\n",
      "DBSCAN clusters with eps=0.7586448275862069: n_clusters=1 n_noise=0\n",
      "DBSCAN clusters with eps=0.7241655172413792: n_clusters=1 n_noise=0\n",
      "DBSCAN clusters with eps=0.6896862068965517: n_clusters=1 n_noise=0\n",
      "DBSCAN clusters with eps=0.6552068965517241: n_clusters=1 n_noise=0\n",
      "DBSCAN clusters with eps=0.6207275862068965: n_clusters=1 n_noise=0\n",
      "DBSCAN clusters with eps=0.586248275862069: n_clusters=1 n_noise=0\n",
      "DBSCAN clusters with eps=0.5517689655172413: n_clusters=1 n_noise=0\n",
      "DBSCAN clusters with eps=0.5172896551724138: n_clusters=1 n_noise=0\n",
      "DBSCAN clusters with eps=0.4828103448275861: n_clusters=1 n_noise=0\n",
      "DBSCAN clusters with eps=0.4483310344827586: n_clusters=1 n_noise=0\n",
      "DBSCAN clusters with eps=0.41385172413793103: n_clusters=1 n_noise=0\n",
      "DBSCAN clusters with eps=0.3793724137931034: n_clusters=1 n_noise=0\n",
      "DBSCAN clusters with eps=0.34489310344827584: n_clusters=1 n_noise=0\n",
      "DBSCAN clusters with eps=0.3104137931034482: n_clusters=1 n_noise=0\n",
      "DBSCAN clusters with eps=0.27593448275862065: n_clusters=1 n_noise=0\n",
      "DBSCAN clusters with eps=0.241455172413793: n_clusters=1 n_noise=0\n",
      "DBSCAN clusters with eps=0.20697586206896545: n_clusters=1 n_noise=0\n",
      "DBSCAN clusters with eps=0.17249655172413791: n_clusters=1 n_noise=0\n",
      "DBSCAN clusters with eps=0.13801724137931026: n_clusters=1 n_noise=0\n",
      "DBSCAN clusters with eps=0.10353793103448272: n_clusters=1 n_noise=0\n",
      "DBSCAN clusters with eps=0.06905862068965507: n_clusters=1 n_noise=0\n",
      "DBSCAN clusters with eps=0.03457931034482753: n_clusters=1 n_noise=0\n",
      "DBSCAN clusters with eps=0.0001: n_clusters=1 n_noise=0\n"
     ]
    }
   ],
   "source": [
    "for db_eps in eps_range:\n",
    "    db = DBSCAN().fit(data_fraq.drop(columns=['label']))\n",
    "    core_samples_mask = np.zeros_like(db.labels_, dtype=bool)\n",
    "    core_samples_mask[db.core_sample_indices_] = True\n",
    "    labels = db.labels_\n",
    "\n",
    "    n_clusters_ = len(set(labels)) - (1 if -1 in labels else 0)\n",
    "    n_noise_ = list(labels).count(-1)\n",
    "    print(f'DBSCAN clusters with eps={db_eps}: n_clusters={n_clusters_} n_noise={n_noise_}')"
   ]
  },
  {
   "cell_type": "markdown",
   "id": "ethical-blair",
   "metadata": {},
   "source": [
    "На меньшем объеме данных DBSCAN также не смог выделить кластеры."
   ]
  },
  {
   "cell_type": "markdown",
   "id": "worse-protein",
   "metadata": {},
   "source": [
    "### AgglomerativeClustering"
   ]
  },
  {
   "cell_type": "code",
   "execution_count": 21,
   "id": "apart-richards",
   "metadata": {},
   "outputs": [],
   "source": [
    "clustering = AgglomerativeClustering(n_clusters=len(label_set)).fit(data.drop(columns=['label']))"
   ]
  },
  {
   "cell_type": "code",
   "execution_count": 22,
   "id": "thermal-basic",
   "metadata": {},
   "outputs": [
    {
     "data": {
      "text/plain": [
       "{0, 1, 2, 3, 4}"
      ]
     },
     "execution_count": 22,
     "metadata": {},
     "output_type": "execute_result"
    }
   ],
   "source": [
    "set(clustering.labels_)"
   ]
  },
  {
   "cell_type": "code",
   "execution_count": 23,
   "id": "impaired-administration",
   "metadata": {
    "scrolled": true
   },
   "outputs": [
    {
     "name": "stdout",
     "output_type": "stream",
     "text": [
      "- adjusted_rand_score=0.04945980028351741 (perfect is 1, poor is 0)\n",
      "- normalized_mutual_info_score=0.08676326451600873 (perfect is 1, poor is 0)\n",
      "- adjusted_mutual_info_score=0.08452087072256753 (perfect is 1, poor is 0)\n",
      "- fowlkes_mallows_score=0.26099516614683077 (perfect is 1, poor is 0)\n",
      "- silhouette_score=0.20590008580723526 (perfect is 1, poor is -1)\n"
     ]
    }
   ],
   "source": [
    "evaluate_clustering(data.drop(columns=['label']), clustering.labels_, data_int_labels)"
   ]
  },
  {
   "cell_type": "markdown",
   "id": "thrown-berlin",
   "metadata": {},
   "source": [
    "На небольшой выборке:"
   ]
  },
  {
   "cell_type": "code",
   "execution_count": 24,
   "id": "middle-america",
   "metadata": {},
   "outputs": [],
   "source": [
    "data_frac = data.sample(frac=0.1)\n",
    "data_frac_int_labels = np.unique(data_frac.label.values, return_inverse=True)[1]"
   ]
  },
  {
   "cell_type": "code",
   "execution_count": 25,
   "id": "acute-balloon",
   "metadata": {},
   "outputs": [],
   "source": [
    "clustering = AgglomerativeClustering(n_clusters=len(label_set)).fit(data_frac.drop(columns=['label']))"
   ]
  },
  {
   "cell_type": "code",
   "execution_count": 26,
   "id": "beautiful-choice",
   "metadata": {},
   "outputs": [
    {
     "name": "stdout",
     "output_type": "stream",
     "text": [
      "- adjusted_rand_score=0.02654820174505214 (perfect is 1, poor is 0)\n",
      "- normalized_mutual_info_score=0.10058657188772407 (perfect is 1, poor is 0)\n",
      "- adjusted_mutual_info_score=0.07481694755927598 (perfect is 1, poor is 0)\n",
      "- fowlkes_mallows_score=0.277276897206451 (perfect is 1, poor is 0)\n",
      "- silhouette_score=0.23224587248836134 (perfect is 1, poor is -1)\n"
     ]
    }
   ],
   "source": [
    "evaluate_clustering(data_frac.drop(columns=['label']), clustering.labels_, data_frac_int_labels)"
   ]
  },
  {
   "cell_type": "markdown",
   "id": "cooperative-species",
   "metadata": {},
   "source": [
    "### Birch"
   ]
  },
  {
   "cell_type": "code",
   "execution_count": 27,
   "id": "textile-relative",
   "metadata": {},
   "outputs": [],
   "source": [
    "thresholds = np.linspace(1, 0.0001, 30)"
   ]
  },
  {
   "cell_type": "code",
   "execution_count": 28,
   "id": "mexican-fever",
   "metadata": {},
   "outputs": [
    {
     "name": "stderr",
     "output_type": "stream",
     "text": [
      "/usr/local/Caskroom/miniconda/base/envs/hse/lib/python3.9/site-packages/sklearn/cluster/_birch.py:647: ConvergenceWarning: Number of subclusters found (1) by Birch is less than (5). Decrease the threshold.\n",
      "  warnings.warn(\n"
     ]
    },
    {
     "name": "stdout",
     "output_type": "stream",
     "text": [
      "{0}\n"
     ]
    },
    {
     "name": "stderr",
     "output_type": "stream",
     "text": [
      "/usr/local/Caskroom/miniconda/base/envs/hse/lib/python3.9/site-packages/sklearn/cluster/_birch.py:647: ConvergenceWarning: Number of subclusters found (1) by Birch is less than (5). Decrease the threshold.\n",
      "  warnings.warn(\n",
      "/usr/local/Caskroom/miniconda/base/envs/hse/lib/python3.9/site-packages/sklearn/cluster/_birch.py:647: ConvergenceWarning: Number of subclusters found (1) by Birch is less than (5). Decrease the threshold.\n",
      "  warnings.warn(\n"
     ]
    },
    {
     "name": "stdout",
     "output_type": "stream",
     "text": [
      "{0}\n",
      "{0}\n"
     ]
    },
    {
     "name": "stderr",
     "output_type": "stream",
     "text": [
      "/usr/local/Caskroom/miniconda/base/envs/hse/lib/python3.9/site-packages/sklearn/cluster/_birch.py:647: ConvergenceWarning: Number of subclusters found (1) by Birch is less than (5). Decrease the threshold.\n",
      "  warnings.warn(\n"
     ]
    },
    {
     "name": "stdout",
     "output_type": "stream",
     "text": [
      "{0}\n"
     ]
    },
    {
     "name": "stderr",
     "output_type": "stream",
     "text": [
      "/usr/local/Caskroom/miniconda/base/envs/hse/lib/python3.9/site-packages/sklearn/cluster/_birch.py:647: ConvergenceWarning: Number of subclusters found (1) by Birch is less than (5). Decrease the threshold.\n",
      "  warnings.warn(\n"
     ]
    },
    {
     "name": "stdout",
     "output_type": "stream",
     "text": [
      "{0}\n"
     ]
    },
    {
     "name": "stderr",
     "output_type": "stream",
     "text": [
      "/usr/local/Caskroom/miniconda/base/envs/hse/lib/python3.9/site-packages/sklearn/cluster/_birch.py:647: ConvergenceWarning: Number of subclusters found (1) by Birch is less than (5). Decrease the threshold.\n",
      "  warnings.warn(\n"
     ]
    },
    {
     "name": "stdout",
     "output_type": "stream",
     "text": [
      "{0}\n"
     ]
    },
    {
     "name": "stderr",
     "output_type": "stream",
     "text": [
      "/usr/local/Caskroom/miniconda/base/envs/hse/lib/python3.9/site-packages/sklearn/cluster/_birch.py:647: ConvergenceWarning: Number of subclusters found (1) by Birch is less than (5). Decrease the threshold.\n",
      "  warnings.warn(\n"
     ]
    },
    {
     "name": "stdout",
     "output_type": "stream",
     "text": [
      "{0}\n"
     ]
    },
    {
     "name": "stderr",
     "output_type": "stream",
     "text": [
      "/usr/local/Caskroom/miniconda/base/envs/hse/lib/python3.9/site-packages/sklearn/cluster/_birch.py:647: ConvergenceWarning: Number of subclusters found (1) by Birch is less than (5). Decrease the threshold.\n",
      "  warnings.warn(\n"
     ]
    },
    {
     "name": "stdout",
     "output_type": "stream",
     "text": [
      "{0}\n"
     ]
    },
    {
     "name": "stderr",
     "output_type": "stream",
     "text": [
      "/usr/local/Caskroom/miniconda/base/envs/hse/lib/python3.9/site-packages/sklearn/cluster/_birch.py:647: ConvergenceWarning: Number of subclusters found (1) by Birch is less than (5). Decrease the threshold.\n",
      "  warnings.warn(\n"
     ]
    },
    {
     "name": "stdout",
     "output_type": "stream",
     "text": [
      "{0}\n"
     ]
    },
    {
     "name": "stderr",
     "output_type": "stream",
     "text": [
      "/usr/local/Caskroom/miniconda/base/envs/hse/lib/python3.9/site-packages/sklearn/cluster/_birch.py:647: ConvergenceWarning: Number of subclusters found (1) by Birch is less than (5). Decrease the threshold.\n",
      "  warnings.warn(\n"
     ]
    },
    {
     "name": "stdout",
     "output_type": "stream",
     "text": [
      "{0}\n"
     ]
    },
    {
     "name": "stderr",
     "output_type": "stream",
     "text": [
      "/usr/local/Caskroom/miniconda/base/envs/hse/lib/python3.9/site-packages/sklearn/cluster/_birch.py:647: ConvergenceWarning: Number of subclusters found (1) by Birch is less than (5). Decrease the threshold.\n",
      "  warnings.warn(\n"
     ]
    },
    {
     "name": "stdout",
     "output_type": "stream",
     "text": [
      "{0}\n"
     ]
    },
    {
     "name": "stderr",
     "output_type": "stream",
     "text": [
      "/usr/local/Caskroom/miniconda/base/envs/hse/lib/python3.9/site-packages/sklearn/cluster/_birch.py:647: ConvergenceWarning: Number of subclusters found (1) by Birch is less than (5). Decrease the threshold.\n",
      "  warnings.warn(\n"
     ]
    },
    {
     "name": "stdout",
     "output_type": "stream",
     "text": [
      "{0}\n"
     ]
    },
    {
     "name": "stderr",
     "output_type": "stream",
     "text": [
      "/usr/local/Caskroom/miniconda/base/envs/hse/lib/python3.9/site-packages/sklearn/cluster/_birch.py:647: ConvergenceWarning: Number of subclusters found (1) by Birch is less than (5). Decrease the threshold.\n",
      "  warnings.warn(\n"
     ]
    },
    {
     "name": "stdout",
     "output_type": "stream",
     "text": [
      "{0}\n"
     ]
    },
    {
     "name": "stderr",
     "output_type": "stream",
     "text": [
      "/usr/local/Caskroom/miniconda/base/envs/hse/lib/python3.9/site-packages/sklearn/cluster/_birch.py:647: ConvergenceWarning: Number of subclusters found (1) by Birch is less than (5). Decrease the threshold.\n",
      "  warnings.warn(\n"
     ]
    },
    {
     "name": "stdout",
     "output_type": "stream",
     "text": [
      "{0}\n"
     ]
    },
    {
     "name": "stderr",
     "output_type": "stream",
     "text": [
      "/usr/local/Caskroom/miniconda/base/envs/hse/lib/python3.9/site-packages/sklearn/cluster/_birch.py:647: ConvergenceWarning: Number of subclusters found (1) by Birch is less than (5). Decrease the threshold.\n",
      "  warnings.warn(\n"
     ]
    },
    {
     "name": "stdout",
     "output_type": "stream",
     "text": [
      "{0}\n"
     ]
    },
    {
     "name": "stderr",
     "output_type": "stream",
     "text": [
      "/usr/local/Caskroom/miniconda/base/envs/hse/lib/python3.9/site-packages/sklearn/cluster/_birch.py:647: ConvergenceWarning: Number of subclusters found (1) by Birch is less than (5). Decrease the threshold.\n",
      "  warnings.warn(\n"
     ]
    },
    {
     "name": "stdout",
     "output_type": "stream",
     "text": [
      "{0}\n"
     ]
    },
    {
     "name": "stderr",
     "output_type": "stream",
     "text": [
      "/usr/local/Caskroom/miniconda/base/envs/hse/lib/python3.9/site-packages/sklearn/cluster/_birch.py:647: ConvergenceWarning: Number of subclusters found (1) by Birch is less than (5). Decrease the threshold.\n",
      "  warnings.warn(\n"
     ]
    },
    {
     "name": "stdout",
     "output_type": "stream",
     "text": [
      "{0}\n"
     ]
    },
    {
     "name": "stderr",
     "output_type": "stream",
     "text": [
      "/usr/local/Caskroom/miniconda/base/envs/hse/lib/python3.9/site-packages/sklearn/cluster/_birch.py:647: ConvergenceWarning: Number of subclusters found (1) by Birch is less than (5). Decrease the threshold.\n",
      "  warnings.warn(\n"
     ]
    },
    {
     "name": "stdout",
     "output_type": "stream",
     "text": [
      "{0}\n"
     ]
    },
    {
     "name": "stderr",
     "output_type": "stream",
     "text": [
      "/usr/local/Caskroom/miniconda/base/envs/hse/lib/python3.9/site-packages/sklearn/cluster/_birch.py:647: ConvergenceWarning: Number of subclusters found (1) by Birch is less than (5). Decrease the threshold.\n",
      "  warnings.warn(\n"
     ]
    },
    {
     "name": "stdout",
     "output_type": "stream",
     "text": [
      "{0}\n"
     ]
    },
    {
     "name": "stderr",
     "output_type": "stream",
     "text": [
      "/usr/local/Caskroom/miniconda/base/envs/hse/lib/python3.9/site-packages/sklearn/cluster/_birch.py:647: ConvergenceWarning: Number of subclusters found (1) by Birch is less than (5). Decrease the threshold.\n",
      "  warnings.warn(\n"
     ]
    },
    {
     "name": "stdout",
     "output_type": "stream",
     "text": [
      "{0}\n"
     ]
    },
    {
     "name": "stderr",
     "output_type": "stream",
     "text": [
      "/usr/local/Caskroom/miniconda/base/envs/hse/lib/python3.9/site-packages/sklearn/cluster/_birch.py:647: ConvergenceWarning: Number of subclusters found (1) by Birch is less than (5). Decrease the threshold.\n",
      "  warnings.warn(\n"
     ]
    },
    {
     "name": "stdout",
     "output_type": "stream",
     "text": [
      "{0}\n"
     ]
    },
    {
     "name": "stderr",
     "output_type": "stream",
     "text": [
      "/usr/local/Caskroom/miniconda/base/envs/hse/lib/python3.9/site-packages/sklearn/cluster/_birch.py:647: ConvergenceWarning: Number of subclusters found (1) by Birch is less than (5). Decrease the threshold.\n",
      "  warnings.warn(\n"
     ]
    },
    {
     "name": "stdout",
     "output_type": "stream",
     "text": [
      "{0}\n"
     ]
    },
    {
     "name": "stderr",
     "output_type": "stream",
     "text": [
      "/usr/local/Caskroom/miniconda/base/envs/hse/lib/python3.9/site-packages/sklearn/cluster/_birch.py:647: ConvergenceWarning: Number of subclusters found (1) by Birch is less than (5). Decrease the threshold.\n",
      "  warnings.warn(\n"
     ]
    },
    {
     "name": "stdout",
     "output_type": "stream",
     "text": [
      "{0}\n"
     ]
    },
    {
     "name": "stderr",
     "output_type": "stream",
     "text": [
      "/usr/local/Caskroom/miniconda/base/envs/hse/lib/python3.9/site-packages/sklearn/cluster/_birch.py:647: ConvergenceWarning: Number of subclusters found (1) by Birch is less than (5). Decrease the threshold.\n",
      "  warnings.warn(\n"
     ]
    },
    {
     "name": "stdout",
     "output_type": "stream",
     "text": [
      "{0}\n"
     ]
    },
    {
     "name": "stderr",
     "output_type": "stream",
     "text": [
      "/usr/local/Caskroom/miniconda/base/envs/hse/lib/python3.9/site-packages/sklearn/cluster/_birch.py:647: ConvergenceWarning: Number of subclusters found (1) by Birch is less than (5). Decrease the threshold.\n",
      "  warnings.warn(\n"
     ]
    },
    {
     "name": "stdout",
     "output_type": "stream",
     "text": [
      "{0}\n",
      "{0, 1, 2, 3, 4}\n",
      "{0, 1, 2, 3, 4}\n",
      "{0, 1, 2, 3, 4}\n",
      "{0, 1, 2, 3, 4}\n",
      "{0, 1, 2, 3, 4}\n"
     ]
    }
   ],
   "source": [
    "for eps in thresholds:\n",
    "    predicted = Birch(n_clusters=5, threshold=eps).fit_predict(data.drop(columns=['label']))\n",
    "    print(set(predicted))"
   ]
  },
  {
   "cell_type": "markdown",
   "id": "infrared-trainer",
   "metadata": {},
   "source": [
    "Видно что надо использовать очень небольшое значение threshold."
   ]
  },
  {
   "cell_type": "code",
   "execution_count": 29,
   "id": "legendary-lambda",
   "metadata": {},
   "outputs": [],
   "source": [
    "thresholds = np.linspace(0.001, 0.00001, 30)"
   ]
  },
  {
   "cell_type": "code",
   "execution_count": 30,
   "id": "received-expert",
   "metadata": {},
   "outputs": [
    {
     "name": "stdout",
     "output_type": "stream",
     "text": [
      "{0, 1, 2, 3, 4}\n",
      "- adjusted_rand_score=0.03900667558035853 (perfect is 1, poor is 0)\n",
      "- normalized_mutual_info_score=0.07269227728621036 (perfect is 1, poor is 0)\n",
      "- adjusted_mutual_info_score=0.0703826549336204 (perfect is 1, poor is 0)\n",
      "- fowlkes_mallows_score=0.26391833673052845 (perfect is 1, poor is 0)\n",
      "- silhouette_score=0.21891727059563615 (perfect is 1, poor is -1)\n",
      "{0, 1, 2, 3, 4}\n",
      "- adjusted_rand_score=0.03900667558035853 (perfect is 1, poor is 0)\n",
      "- normalized_mutual_info_score=0.07269227728621036 (perfect is 1, poor is 0)\n",
      "- adjusted_mutual_info_score=0.0703826549336204 (perfect is 1, poor is 0)\n",
      "- fowlkes_mallows_score=0.26391833673052845 (perfect is 1, poor is 0)\n",
      "- silhouette_score=0.21891727059563615 (perfect is 1, poor is -1)\n",
      "{0, 1, 2, 3, 4}\n",
      "- adjusted_rand_score=0.03900667558035853 (perfect is 1, poor is 0)\n",
      "- normalized_mutual_info_score=0.07269227728621036 (perfect is 1, poor is 0)\n",
      "- adjusted_mutual_info_score=0.0703826549336204 (perfect is 1, poor is 0)\n",
      "- fowlkes_mallows_score=0.26391833673052845 (perfect is 1, poor is 0)\n",
      "- silhouette_score=0.21891727059563615 (perfect is 1, poor is -1)\n",
      "{0, 1, 2, 3, 4}\n",
      "- adjusted_rand_score=0.03900667558035853 (perfect is 1, poor is 0)\n",
      "- normalized_mutual_info_score=0.07269227728621036 (perfect is 1, poor is 0)\n",
      "- adjusted_mutual_info_score=0.0703826549336204 (perfect is 1, poor is 0)\n",
      "- fowlkes_mallows_score=0.26391833673052845 (perfect is 1, poor is 0)\n",
      "- silhouette_score=0.21891727059563615 (perfect is 1, poor is -1)\n",
      "{0, 1, 2, 3, 4}\n",
      "- adjusted_rand_score=0.03900667558035853 (perfect is 1, poor is 0)\n",
      "- normalized_mutual_info_score=0.07269227728621036 (perfect is 1, poor is 0)\n",
      "- adjusted_mutual_info_score=0.0703826549336204 (perfect is 1, poor is 0)\n",
      "- fowlkes_mallows_score=0.26391833673052845 (perfect is 1, poor is 0)\n",
      "- silhouette_score=0.21891727059563615 (perfect is 1, poor is -1)\n",
      "{0, 1, 2, 3, 4}\n",
      "- adjusted_rand_score=0.03900667558035853 (perfect is 1, poor is 0)\n",
      "- normalized_mutual_info_score=0.07269227728621036 (perfect is 1, poor is 0)\n",
      "- adjusted_mutual_info_score=0.0703826549336204 (perfect is 1, poor is 0)\n",
      "- fowlkes_mallows_score=0.26391833673052845 (perfect is 1, poor is 0)\n",
      "- silhouette_score=0.21891727059563615 (perfect is 1, poor is -1)\n",
      "{0, 1, 2, 3, 4}\n",
      "- adjusted_rand_score=0.03900667558035853 (perfect is 1, poor is 0)\n",
      "- normalized_mutual_info_score=0.07269227728621036 (perfect is 1, poor is 0)\n",
      "- adjusted_mutual_info_score=0.0703826549336204 (perfect is 1, poor is 0)\n",
      "- fowlkes_mallows_score=0.26391833673052845 (perfect is 1, poor is 0)\n",
      "- silhouette_score=0.21891727059563615 (perfect is 1, poor is -1)\n",
      "{0, 1, 2, 3, 4}\n",
      "- adjusted_rand_score=0.03900667558035853 (perfect is 1, poor is 0)\n",
      "- normalized_mutual_info_score=0.07269227728621036 (perfect is 1, poor is 0)\n",
      "- adjusted_mutual_info_score=0.0703826549336204 (perfect is 1, poor is 0)\n",
      "- fowlkes_mallows_score=0.26391833673052845 (perfect is 1, poor is 0)\n",
      "- silhouette_score=0.21891727059563615 (perfect is 1, poor is -1)\n",
      "{0, 1, 2, 3, 4}\n",
      "- adjusted_rand_score=0.03900667558035853 (perfect is 1, poor is 0)\n",
      "- normalized_mutual_info_score=0.07269227728621036 (perfect is 1, poor is 0)\n",
      "- adjusted_mutual_info_score=0.0703826549336204 (perfect is 1, poor is 0)\n",
      "- fowlkes_mallows_score=0.26391833673052845 (perfect is 1, poor is 0)\n",
      "- silhouette_score=0.21891727059563615 (perfect is 1, poor is -1)\n",
      "{0, 1, 2, 3, 4}\n",
      "- adjusted_rand_score=0.03900667558035853 (perfect is 1, poor is 0)\n",
      "- normalized_mutual_info_score=0.07269227728621036 (perfect is 1, poor is 0)\n",
      "- adjusted_mutual_info_score=0.0703826549336204 (perfect is 1, poor is 0)\n",
      "- fowlkes_mallows_score=0.26391833673052845 (perfect is 1, poor is 0)\n",
      "- silhouette_score=0.21891727059563615 (perfect is 1, poor is -1)\n",
      "{0, 1, 2, 3, 4}\n",
      "- adjusted_rand_score=0.03900667558035853 (perfect is 1, poor is 0)\n",
      "- normalized_mutual_info_score=0.07269227728621036 (perfect is 1, poor is 0)\n",
      "- adjusted_mutual_info_score=0.0703826549336204 (perfect is 1, poor is 0)\n",
      "- fowlkes_mallows_score=0.26391833673052845 (perfect is 1, poor is 0)\n",
      "- silhouette_score=0.21891727059563615 (perfect is 1, poor is -1)\n",
      "{0, 1, 2, 3, 4}\n",
      "- adjusted_rand_score=0.03900667558035853 (perfect is 1, poor is 0)\n",
      "- normalized_mutual_info_score=0.07269227728621036 (perfect is 1, poor is 0)\n",
      "- adjusted_mutual_info_score=0.0703826549336204 (perfect is 1, poor is 0)\n",
      "- fowlkes_mallows_score=0.26391833673052845 (perfect is 1, poor is 0)\n",
      "- silhouette_score=0.21891727059563615 (perfect is 1, poor is -1)\n",
      "{0, 1, 2, 3, 4}\n",
      "- adjusted_rand_score=0.03900667558035853 (perfect is 1, poor is 0)\n",
      "- normalized_mutual_info_score=0.07269227728621036 (perfect is 1, poor is 0)\n",
      "- adjusted_mutual_info_score=0.0703826549336204 (perfect is 1, poor is 0)\n",
      "- fowlkes_mallows_score=0.26391833673052845 (perfect is 1, poor is 0)\n",
      "- silhouette_score=0.21891727059563615 (perfect is 1, poor is -1)\n",
      "{0, 1, 2, 3, 4}\n",
      "- adjusted_rand_score=0.03900667558035853 (perfect is 1, poor is 0)\n",
      "- normalized_mutual_info_score=0.07269227728621036 (perfect is 1, poor is 0)\n",
      "- adjusted_mutual_info_score=0.0703826549336204 (perfect is 1, poor is 0)\n",
      "- fowlkes_mallows_score=0.26391833673052845 (perfect is 1, poor is 0)\n",
      "- silhouette_score=0.21891727059563615 (perfect is 1, poor is -1)\n",
      "{0, 1, 2, 3, 4}\n",
      "- adjusted_rand_score=0.03900667558035853 (perfect is 1, poor is 0)\n",
      "- normalized_mutual_info_score=0.07269227728621036 (perfect is 1, poor is 0)\n",
      "- adjusted_mutual_info_score=0.0703826549336204 (perfect is 1, poor is 0)\n",
      "- fowlkes_mallows_score=0.26391833673052845 (perfect is 1, poor is 0)\n",
      "- silhouette_score=0.21891727059563615 (perfect is 1, poor is -1)\n",
      "{0, 1, 2, 3, 4}\n",
      "- adjusted_rand_score=0.03900667558035853 (perfect is 1, poor is 0)\n",
      "- normalized_mutual_info_score=0.07269227728621036 (perfect is 1, poor is 0)\n",
      "- adjusted_mutual_info_score=0.0703826549336204 (perfect is 1, poor is 0)\n",
      "- fowlkes_mallows_score=0.26391833673052845 (perfect is 1, poor is 0)\n",
      "- silhouette_score=0.21891727059563615 (perfect is 1, poor is -1)\n",
      "{0, 1, 2, 3, 4}\n",
      "- adjusted_rand_score=0.03900667558035853 (perfect is 1, poor is 0)\n",
      "- normalized_mutual_info_score=0.07269227728621036 (perfect is 1, poor is 0)\n",
      "- adjusted_mutual_info_score=0.0703826549336204 (perfect is 1, poor is 0)\n",
      "- fowlkes_mallows_score=0.26391833673052845 (perfect is 1, poor is 0)\n",
      "- silhouette_score=0.21891727059563615 (perfect is 1, poor is -1)\n",
      "{0, 1, 2, 3, 4}\n",
      "- adjusted_rand_score=0.03900667558035853 (perfect is 1, poor is 0)\n",
      "- normalized_mutual_info_score=0.07269227728621036 (perfect is 1, poor is 0)\n",
      "- adjusted_mutual_info_score=0.0703826549336204 (perfect is 1, poor is 0)\n",
      "- fowlkes_mallows_score=0.26391833673052845 (perfect is 1, poor is 0)\n",
      "- silhouette_score=0.21891727059563615 (perfect is 1, poor is -1)\n",
      "{0, 1, 2, 3, 4}\n",
      "- adjusted_rand_score=0.03900667558035853 (perfect is 1, poor is 0)\n",
      "- normalized_mutual_info_score=0.07269227728621036 (perfect is 1, poor is 0)\n",
      "- adjusted_mutual_info_score=0.0703826549336204 (perfect is 1, poor is 0)\n",
      "- fowlkes_mallows_score=0.26391833673052845 (perfect is 1, poor is 0)\n",
      "- silhouette_score=0.21891727059563615 (perfect is 1, poor is -1)\n",
      "{0, 1, 2, 3, 4}\n",
      "- adjusted_rand_score=0.03900667558035853 (perfect is 1, poor is 0)\n",
      "- normalized_mutual_info_score=0.07269227728621036 (perfect is 1, poor is 0)\n",
      "- adjusted_mutual_info_score=0.0703826549336204 (perfect is 1, poor is 0)\n",
      "- fowlkes_mallows_score=0.26391833673052845 (perfect is 1, poor is 0)\n",
      "- silhouette_score=0.21891727059563615 (perfect is 1, poor is -1)\n",
      "{0, 1, 2, 3, 4}\n",
      "- adjusted_rand_score=0.03900667558035853 (perfect is 1, poor is 0)\n",
      "- normalized_mutual_info_score=0.07269227728621036 (perfect is 1, poor is 0)\n",
      "- adjusted_mutual_info_score=0.0703826549336204 (perfect is 1, poor is 0)\n",
      "- fowlkes_mallows_score=0.26391833673052845 (perfect is 1, poor is 0)\n",
      "- silhouette_score=0.21891727059563615 (perfect is 1, poor is -1)\n",
      "{0, 1, 2, 3, 4}\n",
      "- adjusted_rand_score=0.03900667558035853 (perfect is 1, poor is 0)\n",
      "- normalized_mutual_info_score=0.07269227728621036 (perfect is 1, poor is 0)\n",
      "- adjusted_mutual_info_score=0.0703826549336204 (perfect is 1, poor is 0)\n",
      "- fowlkes_mallows_score=0.26391833673052845 (perfect is 1, poor is 0)\n",
      "- silhouette_score=0.21891727059563615 (perfect is 1, poor is -1)\n",
      "{0, 1, 2, 3, 4}\n",
      "- adjusted_rand_score=0.03900667558035853 (perfect is 1, poor is 0)\n",
      "- normalized_mutual_info_score=0.07269227728621036 (perfect is 1, poor is 0)\n",
      "- adjusted_mutual_info_score=0.0703826549336204 (perfect is 1, poor is 0)\n",
      "- fowlkes_mallows_score=0.26391833673052845 (perfect is 1, poor is 0)\n"
     ]
    },
    {
     "name": "stdout",
     "output_type": "stream",
     "text": [
      "- silhouette_score=0.21891727059563615 (perfect is 1, poor is -1)\n",
      "{0, 1, 2, 3, 4}\n",
      "- adjusted_rand_score=0.03900667558035853 (perfect is 1, poor is 0)\n",
      "- normalized_mutual_info_score=0.07269227728621036 (perfect is 1, poor is 0)\n",
      "- adjusted_mutual_info_score=0.0703826549336204 (perfect is 1, poor is 0)\n",
      "- fowlkes_mallows_score=0.26391833673052845 (perfect is 1, poor is 0)\n",
      "- silhouette_score=0.21891727059563615 (perfect is 1, poor is -1)\n",
      "{0, 1, 2, 3, 4}\n",
      "- adjusted_rand_score=0.03900667558035853 (perfect is 1, poor is 0)\n",
      "- normalized_mutual_info_score=0.07269227728621036 (perfect is 1, poor is 0)\n",
      "- adjusted_mutual_info_score=0.0703826549336204 (perfect is 1, poor is 0)\n",
      "- fowlkes_mallows_score=0.26391833673052845 (perfect is 1, poor is 0)\n",
      "- silhouette_score=0.21891727059563615 (perfect is 1, poor is -1)\n",
      "{0, 1, 2, 3, 4}\n",
      "- adjusted_rand_score=0.03900667558035853 (perfect is 1, poor is 0)\n",
      "- normalized_mutual_info_score=0.07269227728621036 (perfect is 1, poor is 0)\n",
      "- adjusted_mutual_info_score=0.0703826549336204 (perfect is 1, poor is 0)\n",
      "- fowlkes_mallows_score=0.26391833673052845 (perfect is 1, poor is 0)\n",
      "- silhouette_score=0.21891727059563615 (perfect is 1, poor is -1)\n",
      "{0, 1, 2, 3, 4}\n",
      "- adjusted_rand_score=0.03900667558035853 (perfect is 1, poor is 0)\n",
      "- normalized_mutual_info_score=0.07269227728621036 (perfect is 1, poor is 0)\n",
      "- adjusted_mutual_info_score=0.0703826549336204 (perfect is 1, poor is 0)\n",
      "- fowlkes_mallows_score=0.26391833673052845 (perfect is 1, poor is 0)\n",
      "- silhouette_score=0.21891727059563615 (perfect is 1, poor is -1)\n",
      "{0, 1, 2, 3, 4}\n",
      "- adjusted_rand_score=0.03900667558035853 (perfect is 1, poor is 0)\n",
      "- normalized_mutual_info_score=0.07269227728621036 (perfect is 1, poor is 0)\n",
      "- adjusted_mutual_info_score=0.0703826549336204 (perfect is 1, poor is 0)\n",
      "- fowlkes_mallows_score=0.26391833673052845 (perfect is 1, poor is 0)\n",
      "- silhouette_score=0.21891727059563615 (perfect is 1, poor is -1)\n",
      "{0, 1, 2, 3, 4}\n",
      "- adjusted_rand_score=0.03900667558035853 (perfect is 1, poor is 0)\n",
      "- normalized_mutual_info_score=0.07269227728621036 (perfect is 1, poor is 0)\n",
      "- adjusted_mutual_info_score=0.0703826549336204 (perfect is 1, poor is 0)\n",
      "- fowlkes_mallows_score=0.26391833673052845 (perfect is 1, poor is 0)\n",
      "- silhouette_score=0.21891727059563615 (perfect is 1, poor is -1)\n",
      "{0, 1, 2, 3, 4}\n",
      "- adjusted_rand_score=0.03900667558035853 (perfect is 1, poor is 0)\n",
      "- normalized_mutual_info_score=0.07269227728621036 (perfect is 1, poor is 0)\n",
      "- adjusted_mutual_info_score=0.0703826549336204 (perfect is 1, poor is 0)\n",
      "- fowlkes_mallows_score=0.26391833673052845 (perfect is 1, poor is 0)\n",
      "- silhouette_score=0.21891727059563615 (perfect is 1, poor is -1)\n"
     ]
    }
   ],
   "source": [
    "for eps in thresholds:\n",
    "    predicted = Birch(n_clusters=5, threshold=eps).fit_predict(data.drop(columns=['label']))\n",
    "    print(set(predicted))\n",
    "    evaluate_clustering(data.drop(columns=['label']), predicted, data_int_labels)"
   ]
  },
  {
   "cell_type": "markdown",
   "id": "wanted-vertical",
   "metadata": {},
   "source": [
    "На меньшей выборке:"
   ]
  },
  {
   "cell_type": "code",
   "execution_count": 31,
   "id": "valuable-simulation",
   "metadata": {},
   "outputs": [],
   "source": [
    "data_frac = data.sample(frac=0.1)\n",
    "data_frac_int_labels = np.unique(data_frac.label.values, return_inverse=True)[1]"
   ]
  },
  {
   "cell_type": "code",
   "execution_count": 32,
   "id": "incorporated-overall",
   "metadata": {},
   "outputs": [
    {
     "name": "stdout",
     "output_type": "stream",
     "text": [
      "{0, 1, 2, 3, 4}\n",
      "- adjusted_rand_score=0.054280153648632944 (perfect is 1, poor is 0)\n",
      "- normalized_mutual_info_score=0.10539088605048312 (perfect is 1, poor is 0)\n",
      "- adjusted_mutual_info_score=0.08083513897700342 (perfect is 1, poor is 0)\n",
      "- fowlkes_mallows_score=0.2697667573646425 (perfect is 1, poor is 0)\n",
      "- silhouette_score=0.19731315820147816 (perfect is 1, poor is -1)\n",
      "{0, 1, 2, 3, 4}\n",
      "- adjusted_rand_score=0.054280153648632944 (perfect is 1, poor is 0)\n",
      "- normalized_mutual_info_score=0.10539088605048312 (perfect is 1, poor is 0)\n",
      "- adjusted_mutual_info_score=0.08083513897700342 (perfect is 1, poor is 0)\n",
      "- fowlkes_mallows_score=0.2697667573646425 (perfect is 1, poor is 0)\n",
      "- silhouette_score=0.19731315820147816 (perfect is 1, poor is -1)\n",
      "{0, 1, 2, 3, 4}\n",
      "- adjusted_rand_score=0.054280153648632944 (perfect is 1, poor is 0)\n",
      "- normalized_mutual_info_score=0.10539088605048312 (perfect is 1, poor is 0)\n",
      "- adjusted_mutual_info_score=0.08083513897700342 (perfect is 1, poor is 0)\n",
      "- fowlkes_mallows_score=0.2697667573646425 (perfect is 1, poor is 0)\n",
      "- silhouette_score=0.19731315820147816 (perfect is 1, poor is -1)\n",
      "{0, 1, 2, 3, 4}\n",
      "- adjusted_rand_score=0.054280153648632944 (perfect is 1, poor is 0)\n",
      "- normalized_mutual_info_score=0.10539088605048312 (perfect is 1, poor is 0)\n",
      "- adjusted_mutual_info_score=0.08083513897700342 (perfect is 1, poor is 0)\n",
      "- fowlkes_mallows_score=0.2697667573646425 (perfect is 1, poor is 0)\n",
      "- silhouette_score=0.19731315820147816 (perfect is 1, poor is -1)\n",
      "{0, 1, 2, 3, 4}\n",
      "- adjusted_rand_score=0.054280153648632944 (perfect is 1, poor is 0)\n",
      "- normalized_mutual_info_score=0.10539088605048312 (perfect is 1, poor is 0)\n",
      "- adjusted_mutual_info_score=0.08083513897700342 (perfect is 1, poor is 0)\n",
      "- fowlkes_mallows_score=0.2697667573646425 (perfect is 1, poor is 0)\n",
      "- silhouette_score=0.19731315820147816 (perfect is 1, poor is -1)\n",
      "{0, 1, 2, 3, 4}\n",
      "- adjusted_rand_score=0.054280153648632944 (perfect is 1, poor is 0)\n",
      "- normalized_mutual_info_score=0.10539088605048312 (perfect is 1, poor is 0)\n",
      "- adjusted_mutual_info_score=0.08083513897700342 (perfect is 1, poor is 0)\n",
      "- fowlkes_mallows_score=0.2697667573646425 (perfect is 1, poor is 0)\n",
      "- silhouette_score=0.19731315820147816 (perfect is 1, poor is -1)\n",
      "{0, 1, 2, 3, 4}\n",
      "- adjusted_rand_score=0.054280153648632944 (perfect is 1, poor is 0)\n",
      "- normalized_mutual_info_score=0.10539088605048312 (perfect is 1, poor is 0)\n",
      "- adjusted_mutual_info_score=0.08083513897700342 (perfect is 1, poor is 0)\n",
      "- fowlkes_mallows_score=0.2697667573646425 (perfect is 1, poor is 0)\n",
      "- silhouette_score=0.19731315820147816 (perfect is 1, poor is -1)\n",
      "{0, 1, 2, 3, 4}\n",
      "- adjusted_rand_score=0.054280153648632944 (perfect is 1, poor is 0)\n",
      "- normalized_mutual_info_score=0.10539088605048312 (perfect is 1, poor is 0)\n",
      "- adjusted_mutual_info_score=0.08083513897700342 (perfect is 1, poor is 0)\n",
      "- fowlkes_mallows_score=0.2697667573646425 (perfect is 1, poor is 0)\n",
      "- silhouette_score=0.19731315820147816 (perfect is 1, poor is -1)\n",
      "{0, 1, 2, 3, 4}\n",
      "- adjusted_rand_score=0.054280153648632944 (perfect is 1, poor is 0)\n",
      "- normalized_mutual_info_score=0.10539088605048312 (perfect is 1, poor is 0)\n",
      "- adjusted_mutual_info_score=0.08083513897700342 (perfect is 1, poor is 0)\n",
      "- fowlkes_mallows_score=0.2697667573646425 (perfect is 1, poor is 0)\n",
      "- silhouette_score=0.19731315820147816 (perfect is 1, poor is -1)\n",
      "{0, 1, 2, 3, 4}\n",
      "- adjusted_rand_score=0.054280153648632944 (perfect is 1, poor is 0)\n",
      "- normalized_mutual_info_score=0.10539088605048312 (perfect is 1, poor is 0)\n",
      "- adjusted_mutual_info_score=0.08083513897700342 (perfect is 1, poor is 0)\n",
      "- fowlkes_mallows_score=0.2697667573646425 (perfect is 1, poor is 0)\n",
      "- silhouette_score=0.19731315820147816 (perfect is 1, poor is -1)\n",
      "{0, 1, 2, 3, 4}\n",
      "- adjusted_rand_score=0.054280153648632944 (perfect is 1, poor is 0)\n",
      "- normalized_mutual_info_score=0.10539088605048312 (perfect is 1, poor is 0)\n",
      "- adjusted_mutual_info_score=0.08083513897700342 (perfect is 1, poor is 0)\n",
      "- fowlkes_mallows_score=0.2697667573646425 (perfect is 1, poor is 0)\n",
      "- silhouette_score=0.19731315820147816 (perfect is 1, poor is -1)\n",
      "{0, 1, 2, 3, 4}\n",
      "- adjusted_rand_score=0.054280153648632944 (perfect is 1, poor is 0)\n",
      "- normalized_mutual_info_score=0.10539088605048312 (perfect is 1, poor is 0)\n",
      "- adjusted_mutual_info_score=0.08083513897700342 (perfect is 1, poor is 0)\n",
      "- fowlkes_mallows_score=0.2697667573646425 (perfect is 1, poor is 0)\n",
      "- silhouette_score=0.19731315820147816 (perfect is 1, poor is -1)\n",
      "{0, 1, 2, 3, 4}\n",
      "- adjusted_rand_score=0.054280153648632944 (perfect is 1, poor is 0)\n",
      "- normalized_mutual_info_score=0.10539088605048312 (perfect is 1, poor is 0)\n",
      "- adjusted_mutual_info_score=0.08083513897700342 (perfect is 1, poor is 0)\n",
      "- fowlkes_mallows_score=0.2697667573646425 (perfect is 1, poor is 0)\n",
      "- silhouette_score=0.19731315820147816 (perfect is 1, poor is -1)\n",
      "{0, 1, 2, 3, 4}\n",
      "- adjusted_rand_score=0.054280153648632944 (perfect is 1, poor is 0)\n",
      "- normalized_mutual_info_score=0.10539088605048312 (perfect is 1, poor is 0)\n",
      "- adjusted_mutual_info_score=0.08083513897700342 (perfect is 1, poor is 0)\n",
      "- fowlkes_mallows_score=0.2697667573646425 (perfect is 1, poor is 0)\n",
      "- silhouette_score=0.19731315820147816 (perfect is 1, poor is -1)\n",
      "{0, 1, 2, 3, 4}\n",
      "- adjusted_rand_score=0.054280153648632944 (perfect is 1, poor is 0)\n",
      "- normalized_mutual_info_score=0.10539088605048312 (perfect is 1, poor is 0)\n",
      "- adjusted_mutual_info_score=0.08083513897700342 (perfect is 1, poor is 0)\n",
      "- fowlkes_mallows_score=0.2697667573646425 (perfect is 1, poor is 0)\n",
      "- silhouette_score=0.19731315820147816 (perfect is 1, poor is -1)\n",
      "{0, 1, 2, 3, 4}\n",
      "- adjusted_rand_score=0.054280153648632944 (perfect is 1, poor is 0)\n",
      "- normalized_mutual_info_score=0.10539088605048312 (perfect is 1, poor is 0)\n",
      "- adjusted_mutual_info_score=0.08083513897700342 (perfect is 1, poor is 0)\n",
      "- fowlkes_mallows_score=0.2697667573646425 (perfect is 1, poor is 0)\n",
      "- silhouette_score=0.19731315820147816 (perfect is 1, poor is -1)\n",
      "{0, 1, 2, 3, 4}\n",
      "- adjusted_rand_score=0.054280153648632944 (perfect is 1, poor is 0)\n",
      "- normalized_mutual_info_score=0.10539088605048312 (perfect is 1, poor is 0)\n",
      "- adjusted_mutual_info_score=0.08083513897700342 (perfect is 1, poor is 0)\n",
      "- fowlkes_mallows_score=0.2697667573646425 (perfect is 1, poor is 0)\n",
      "- silhouette_score=0.19731315820147816 (perfect is 1, poor is -1)\n",
      "{0, 1, 2, 3, 4}\n",
      "- adjusted_rand_score=0.054280153648632944 (perfect is 1, poor is 0)\n",
      "- normalized_mutual_info_score=0.10539088605048312 (perfect is 1, poor is 0)\n",
      "- adjusted_mutual_info_score=0.08083513897700342 (perfect is 1, poor is 0)\n",
      "- fowlkes_mallows_score=0.2697667573646425 (perfect is 1, poor is 0)\n",
      "- silhouette_score=0.19731315820147816 (perfect is 1, poor is -1)\n",
      "{0, 1, 2, 3, 4}\n",
      "- adjusted_rand_score=0.054280153648632944 (perfect is 1, poor is 0)\n",
      "- normalized_mutual_info_score=0.10539088605048312 (perfect is 1, poor is 0)\n",
      "- adjusted_mutual_info_score=0.08083513897700342 (perfect is 1, poor is 0)\n",
      "- fowlkes_mallows_score=0.2697667573646425 (perfect is 1, poor is 0)\n",
      "- silhouette_score=0.19731315820147816 (perfect is 1, poor is -1)\n",
      "{0, 1, 2, 3, 4}\n",
      "- adjusted_rand_score=0.054280153648632944 (perfect is 1, poor is 0)\n",
      "- normalized_mutual_info_score=0.10539088605048312 (perfect is 1, poor is 0)\n",
      "- adjusted_mutual_info_score=0.08083513897700342 (perfect is 1, poor is 0)\n",
      "- fowlkes_mallows_score=0.2697667573646425 (perfect is 1, poor is 0)\n",
      "- silhouette_score=0.19731315820147816 (perfect is 1, poor is -1)\n",
      "{0, 1, 2, 3, 4}\n",
      "- adjusted_rand_score=0.054280153648632944 (perfect is 1, poor is 0)\n",
      "- normalized_mutual_info_score=0.10539088605048312 (perfect is 1, poor is 0)\n",
      "- adjusted_mutual_info_score=0.08083513897700342 (perfect is 1, poor is 0)\n",
      "- fowlkes_mallows_score=0.2697667573646425 (perfect is 1, poor is 0)\n",
      "- silhouette_score=0.19731315820147816 (perfect is 1, poor is -1)\n",
      "{0, 1, 2, 3, 4}\n",
      "- adjusted_rand_score=0.054280153648632944 (perfect is 1, poor is 0)\n",
      "- normalized_mutual_info_score=0.10539088605048312 (perfect is 1, poor is 0)\n",
      "- adjusted_mutual_info_score=0.08083513897700342 (perfect is 1, poor is 0)\n",
      "- fowlkes_mallows_score=0.2697667573646425 (perfect is 1, poor is 0)\n",
      "- silhouette_score=0.19731315820147816 (perfect is 1, poor is -1)\n",
      "{0, 1, 2, 3, 4}\n",
      "- adjusted_rand_score=0.054280153648632944 (perfect is 1, poor is 0)\n",
      "- normalized_mutual_info_score=0.10539088605048312 (perfect is 1, poor is 0)\n",
      "- adjusted_mutual_info_score=0.08083513897700342 (perfect is 1, poor is 0)\n",
      "- fowlkes_mallows_score=0.2697667573646425 (perfect is 1, poor is 0)\n",
      "- silhouette_score=0.19731315820147816 (perfect is 1, poor is -1)\n"
     ]
    },
    {
     "name": "stdout",
     "output_type": "stream",
     "text": [
      "{0, 1, 2, 3, 4}\n",
      "- adjusted_rand_score=0.054280153648632944 (perfect is 1, poor is 0)\n",
      "- normalized_mutual_info_score=0.10539088605048312 (perfect is 1, poor is 0)\n",
      "- adjusted_mutual_info_score=0.08083513897700342 (perfect is 1, poor is 0)\n",
      "- fowlkes_mallows_score=0.2697667573646425 (perfect is 1, poor is 0)\n",
      "- silhouette_score=0.19731315820147816 (perfect is 1, poor is -1)\n",
      "{0, 1, 2, 3, 4}\n",
      "- adjusted_rand_score=0.054280153648632944 (perfect is 1, poor is 0)\n",
      "- normalized_mutual_info_score=0.10539088605048312 (perfect is 1, poor is 0)\n",
      "- adjusted_mutual_info_score=0.08083513897700342 (perfect is 1, poor is 0)\n",
      "- fowlkes_mallows_score=0.2697667573646425 (perfect is 1, poor is 0)\n",
      "- silhouette_score=0.19731315820147816 (perfect is 1, poor is -1)\n",
      "{0, 1, 2, 3, 4}\n",
      "- adjusted_rand_score=0.054280153648632944 (perfect is 1, poor is 0)\n",
      "- normalized_mutual_info_score=0.10539088605048312 (perfect is 1, poor is 0)\n",
      "- adjusted_mutual_info_score=0.08083513897700342 (perfect is 1, poor is 0)\n",
      "- fowlkes_mallows_score=0.2697667573646425 (perfect is 1, poor is 0)\n",
      "- silhouette_score=0.19731315820147816 (perfect is 1, poor is -1)\n",
      "{0, 1, 2, 3, 4}\n",
      "- adjusted_rand_score=0.054280153648632944 (perfect is 1, poor is 0)\n",
      "- normalized_mutual_info_score=0.10539088605048312 (perfect is 1, poor is 0)\n",
      "- adjusted_mutual_info_score=0.08083513897700342 (perfect is 1, poor is 0)\n",
      "- fowlkes_mallows_score=0.2697667573646425 (perfect is 1, poor is 0)\n",
      "- silhouette_score=0.19731315820147816 (perfect is 1, poor is -1)\n",
      "{0, 1, 2, 3, 4}\n",
      "- adjusted_rand_score=0.054280153648632944 (perfect is 1, poor is 0)\n",
      "- normalized_mutual_info_score=0.10539088605048312 (perfect is 1, poor is 0)\n",
      "- adjusted_mutual_info_score=0.08083513897700342 (perfect is 1, poor is 0)\n",
      "- fowlkes_mallows_score=0.2697667573646425 (perfect is 1, poor is 0)\n",
      "- silhouette_score=0.19731315820147816 (perfect is 1, poor is -1)\n",
      "{0, 1, 2, 3, 4}\n",
      "- adjusted_rand_score=0.054280153648632944 (perfect is 1, poor is 0)\n",
      "- normalized_mutual_info_score=0.10539088605048312 (perfect is 1, poor is 0)\n",
      "- adjusted_mutual_info_score=0.08083513897700342 (perfect is 1, poor is 0)\n",
      "- fowlkes_mallows_score=0.2697667573646425 (perfect is 1, poor is 0)\n",
      "- silhouette_score=0.19731315820147816 (perfect is 1, poor is -1)\n",
      "{0, 1, 2, 3, 4}\n",
      "- adjusted_rand_score=0.054280153648632944 (perfect is 1, poor is 0)\n",
      "- normalized_mutual_info_score=0.10539088605048312 (perfect is 1, poor is 0)\n",
      "- adjusted_mutual_info_score=0.08083513897700342 (perfect is 1, poor is 0)\n",
      "- fowlkes_mallows_score=0.2697667573646425 (perfect is 1, poor is 0)\n",
      "- silhouette_score=0.19731315820147816 (perfect is 1, poor is -1)\n"
     ]
    }
   ],
   "source": [
    "for eps in thresholds:\n",
    "    predicted = Birch(n_clusters=5, threshold=eps).fit_predict(data_frac.drop(columns=['label']))\n",
    "    print(set(predicted))\n",
    "    evaluate_clustering(data_frac.drop(columns=['label']), predicted, data_frac_int_labels)"
   ]
  },
  {
   "cell_type": "markdown",
   "id": "cheap-castle",
   "metadata": {},
   "source": [
    "Видно что ни с какими параметрами не удалось получить разделение на правильные кластеры."
   ]
  },
  {
   "cell_type": "markdown",
   "id": "fossil-moldova",
   "metadata": {},
   "source": [
    "### Вывод"
   ]
  },
  {
   "cell_type": "markdown",
   "id": "grave-conditions",
   "metadata": {},
   "source": [
    "Таким образом можно сказать что построение диаграмм никаким образом не позволяет разделить на правильные кластеры фигуры. Скорее всего необходимо использовать алгоритмы машинного обучения с учителем."
   ]
  },
  {
   "cell_type": "code",
   "execution_count": 33,
   "id": "disturbed-methodology",
   "metadata": {},
   "outputs": [
    {
     "name": "stdout",
     "output_type": "stream",
     "text": [
      "/Users/psolikov/Nextcloud/HSE/ProdStories/HW4\r\n"
     ]
    }
   ],
   "source": [
    "!pwd"
   ]
  },
  {
   "cell_type": "code",
   "execution_count": null,
   "id": "returning-buying",
   "metadata": {},
   "outputs": [],
   "source": []
  }
 ],
 "metadata": {
  "kernelspec": {
   "display_name": "Python 3",
   "language": "python",
   "name": "python3"
  },
  "language_info": {
   "codemirror_mode": {
    "name": "ipython",
    "version": 3
   },
   "file_extension": ".py",
   "mimetype": "text/x-python",
   "name": "python",
   "nbconvert_exporter": "python",
   "pygments_lexer": "ipython3",
   "version": "3.9.2"
  }
 },
 "nbformat": 4,
 "nbformat_minor": 5
}
